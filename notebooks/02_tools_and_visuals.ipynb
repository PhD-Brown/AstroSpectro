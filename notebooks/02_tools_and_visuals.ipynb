{
 "cells": [
  {
   "cell_type": "markdown",
   "id": "715b1eef",
   "metadata": {},
   "source": [
    "# 📓 Notebook 02 – Outils et Visualisations DR5\n",
    "\n",
    "> But : Ce notebook regroupe les outils interactifs développés pour explorer, diagnostiquer et affiner les spectres téléchargés du catalogue LAMOST DR5, sans relancer le pipeline complet.  \n",
    "> Il est destiné à l’analyse exploratoire rapide, à la visualisation augmentée, et au debug scientifique.\n",
    "\n",
    "<br/>"
   ]
  },
  {
   "cell_type": "markdown",
   "id": "f6e84304",
   "metadata": {},
   "source": [
    "## ⚙️ Setup & Imports\n",
    "L'environnement est initialisé dynamiquement avec détection de la racine du projet et ajout du dossier ``src/`` au ``sys.path``.  \n",
    "On y importe les classes utilitaires ``AstroVisualizer`` et ``setup_project_env``."
   ]
  },
  {
   "cell_type": "code",
   "execution_count": null,
   "id": "8c1274f9",
   "metadata": {},
   "outputs": [],
   "source": [
    "import os\n",
    "import sys\n",
    "\n",
    "# Ajout du chemin vers 'src' pour trouver nos modules\n",
    "module_path = os.path.abspath(os.path.join('..', 'src'))\n",
    "if module_path not in sys.path:\n",
    "    sys.path.append(module_path)\n",
    "\n",
    "# Import de notre outil de setup et de notre outil de visualisation\n",
    "from utils import setup_project_env\n",
    "from tools.visualizer import AstroVisualizer\n",
    "\n",
    "# On importe les outils d'affichage dont on a besoin dans le notebook\n",
    "from IPython.display import display, Markdown\n",
    "\n",
    "# Initialisation\n",
    "paths = setup_project_env()\n",
    "visualizer = AstroVisualizer(paths)\n",
    "\n",
    "print(\"\\n Setup terminé. Outils prêts à l'emploi.\")"
   ]
  },
  {
   "cell_type": "markdown",
   "id": "225ddd69",
   "metadata": {},
   "source": [
    "#"
   ]
  },
  {
   "cell_type": "markdown",
   "id": "dc298e25",
   "metadata": {},
   "source": [
    "## 🧠 Explorateur de Header FITS\n",
    "\n",
    "Outil interactif permettant de charger dynamiquement un spectre ``.fits.gz`` et d’en afficher les métadonnées structurées.\n",
    "\n",
    "### **Utilisation typique :**\n",
    "\n",
    "- Vérifier la cohérence des champs : coordonnées, type d’objet, date, filtre, seeing…\n",
    "- Déboguer un spectre problématique\n",
    "- Détecter des valeurs aberrantes avant traitement massif\n",
    "\n",
    "*Compatible avec les headers compressés grâce à ``astropy.io.fits.``*"
   ]
  },
  {
   "cell_type": "code",
   "execution_count": null,
   "id": "090f8f38",
   "metadata": {},
   "outputs": [],
   "source": [
    "display(Markdown(\"## Explorateur de Header FITS\"))\n",
    "display(Markdown(\"Utilisez le menu déroulant pour sélectionner un spectre et afficher ses métadonnées complètes.\"))\n",
    "visualizer.interactive_header_explorer()"
   ]
  },
  {
   "cell_type": "markdown",
   "id": "70bc4ea0",
   "metadata": {},
   "source": [
    "#"
   ]
  },
  {
   "cell_type": "markdown",
   "id": "96fa20d3",
   "metadata": {},
   "source": [
    "## ⚗️ Tuning Interactif des Raies Spectrales\n",
    "\n",
    "Permet d’ajuster en direct les paramètres de détection des raies spectrales :\n",
    "\n",
    "- **Prominence** (hauteur minimale pour détecter un pic)\n",
    "- **Fenêtre** (largeur du sliding window autour du pic)\n",
    "\n",
    "**Objectif : tester visuellement les hyperparamètres avant traitement global du dataset.**\n",
    "\n",
    "### L’interface comprend :\n",
    "\n",
    "- un menu de sélection du spectre\n",
    "- deux sliders ``ipwidgets``\n",
    "- un tracé du spectre avec surlignement automatique des pics détectés"
   ]
  },
  {
   "cell_type": "markdown",
   "id": "a8845c88",
   "metadata": {},
   "source": [
    "#"
   ]
  },
  {
   "cell_type": "code",
   "execution_count": null,
   "id": "544d562c",
   "metadata": {},
   "outputs": [],
   "source": [
    "display(Markdown(\"--- \\n## Analyseur de Spectre Augmenté\"))\n",
    "display(Markdown(\n",
    "    \"Cet outil tout-en-un vous permet de visualiser un spectre, d'ajuster les \"\n",
    "    \"paramètres de détection de pics en temps réel, et d'évaluer la qualité \"\n",
    "    \"des données et de l'analyse.\"\n",
    "))\n",
    "\n",
    "# Cet appel unique crée maintenant l'interface complète\n",
    "visualizer.interactive_spectrum_analyzer()"
   ]
  },
  {
   "cell_type": "markdown",
   "id": "c289fa1a",
   "metadata": {},
   "source": [
    "#"
   ]
  },
  {
   "cell_type": "markdown",
   "id": "3c2d99da",
   "metadata": {},
   "source": [
    "## 🧼 Analyse des Features Nulles\n",
    "Analyse de qualité des données extraites, avec graphique à barres des colonnes avec trop de valeurs nulles ``(0.0)``.\n",
    "\n",
    "### Ce module permet de :\n",
    "\n",
    "- Repérer les features peu ou non utilisées\n",
    "- Nettoyer les colonnes inexploitables\n",
    "- Diagnostiquer les erreurs d’extraction"
   ]
  },
  {
   "cell_type": "code",
   "execution_count": null,
   "id": "020bcfa4",
   "metadata": {},
   "outputs": [],
   "source": [
    "display(Markdown(\"--- \\n## Analyse de la Qualité des Features\"))\n",
    "display(Markdown(\"Cet outil analyse le dernier fichier de features généré et montre le pourcentage de valeurs nulles pour chaque feature. C'est essentiel pour identifier les features peu informatives.\"))\n",
    "visualizer.analyze_feature_zeros()"
   ]
  },
  {
   "cell_type": "markdown",
   "id": "3619d979",
   "metadata": {},
   "source": [
    "#"
   ]
  },
  {
   "cell_type": "markdown",
   "id": "15b0245b",
   "metadata": {},
   "source": [
    "## 🌌 Carte de Couverture Céleste\n",
    "\n",
    "Affiche une **projection Mollweide** des plans d’observation inclus dans les spectres téléchargés.\n",
    "\n",
    "- Axe horizontal : Ascension Droite (RA)\n",
    "- Axe vertical : Déclinaison (Dec)\n",
    "- Couleur & taille : nombre de spectres par plan\n",
    "\n",
    "💡 Permet de visualiser la densité des données acquises sur la voûte céleste."
   ]
  },
  {
   "cell_type": "code",
   "execution_count": null,
   "id": "b2efe576",
   "metadata": {},
   "outputs": [],
   "source": [
    "display(Markdown(\"--- \\n## Carte de Couverture Céleste\"))\n",
    "display(Markdown(\"Cette carte montre la position des plans d'observation que tu as téléchargés. La taille et la couleur des points indiquent le nombre de spectres par plan.\"))\n",
    "visualizer.plot_sky_coverage()"
   ]
  },
  {
   "cell_type": "markdown",
   "id": "720f194e",
   "metadata": {},
   "source": [
    "#"
   ]
  },
  {
   "cell_type": "markdown",
   "id": "8012887d",
   "metadata": {},
   "source": [
    "## 🔎 Inspecteur de Modèles Entraînés\n",
    "\n",
    "Outil permettant d'explorer les modèles sauvegardés ``.pkl`` :\n",
    "\n",
    "- Visualisation des hyperparamètres\n",
    "- Affichage de la feature importance (triée)\n",
    "\n",
    "**Très utile pour analyser la qualité du classifieur, l’importance des raies spectrales, et affiner le feature engineering.**"
   ]
  },
  {
   "cell_type": "code",
   "execution_count": null,
   "id": "6b9191c1",
   "metadata": {},
   "outputs": [],
   "source": [
    "display(Markdown(\"--- \\n## Inspecteur de Modèles Entraînés\"))\n",
    "display(Markdown(\n",
    "    \"Utilisez le menu déroulant pour sélectionner un modèle `.pkl` sauvegardé. \"\n",
    "    \"Cet outil affichera ses hyperparamètres et un graphique montrant l'importance de chaque feature \"\n",
    "    \"pour la classification.\"\n",
    "))\n",
    "\n",
    "# Cet appel unique crée l'interface d'inspection\n",
    "visualizer.interactive_model_inspector()"
   ]
  }
 ],
 "metadata": {
  "kernelspec": {
   "display_name": "venv",
   "language": "python",
   "name": "python3"
  },
  "language_info": {
   "codemirror_mode": {
    "name": "ipython",
    "version": 3
   },
   "file_extension": ".py",
   "mimetype": "text/x-python",
   "name": "python",
   "nbconvert_exporter": "python",
   "pygments_lexer": "ipython3",
   "version": "3.13.3"
  }
 },
 "nbformat": 4,
 "nbformat_minor": 5
}
