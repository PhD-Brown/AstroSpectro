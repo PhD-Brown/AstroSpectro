{
 "cells": [
  {
   "cell_type": "markdown",
   "id": "715b1eef",
   "metadata": {},
   "source": [
    "<a id=\"toc\"></a>\n",
    "\n",
    "# 📓 Notebook 02 – Outils et Visualisations DR5\n",
    "\n",
    "> But. Ce notebook regroupe des outils interactifs pour explorer, diagnostiquer et affiner les spectres téléchargés du catalogue LAMOST DR5, sans relancer le pipeline complet.  \n",
    "Usage. Chaque section explique à quoi ça sert, comment l’utiliser et ce qui est sauvegardé dans les dossiers de logs.\n",
    "\n",
    "Sommaire rapide\n",
    "- [🛠️ Setup & Imports](#setup)\n",
    "- [📊 Tableau de Bord de l’État du Dataset](#dashboard)\n",
    "- [🔭 Explorateur de Header FITS](#fits)\n",
    "- [🎚️ Tuning Interactif des Raies](#tuning)\n",
    "- [🧪 Analyse des Features Nulles](#nulls)\n",
    "- [🗺️ Carte de Couverture Céleste](#sky)\n",
    "- [🧠 Inspecteur de Modèles Entraînés](#inspector)\n",
    "- [🧬 Comparateur de Spectres Interactif](#compare-spectra)\n",
    "- [🧼 Comparateur de Normalisation](#compare-norm)\n",
    "- [🛰️ Analyse d’Interprétabilité (SHAP)](#shap)\n",
    "- [🏷️ Distribution des Sous-Classes](#subclasses)\n",
    "- [🔎 Analyse en Profondeur des Features](#deep-features)"
   ]
  },
  {
   "cell_type": "markdown",
   "id": "d2aadd40",
   "metadata": {},
   "source": [
    "#"
   ]
  },
  {
   "cell_type": "markdown",
   "id": "f6e84304",
   "metadata": {},
   "source": [
    "<a id=\"setup\"></a>\n",
    "# 🛠️ Setup & Imports [↩︎](#toc)\n",
    "\n",
    "Initialise l’environnement de travail (détection automatique de la racine du projet, ajout de ``src/`` au ``sys.path``) et charge :\n",
    "\n",
    "- ``AstroVisualizer`` : l’interface principale d’outils,\n",
    "\n",
    "- ``setup_project_env()`` : chemins & constantes (raw, catalog, models, logs…),\n",
    "\n",
    "- utilitaires du **pipeline** (si besoin de recharger un modèle).\n",
    "\n",
    "**Résultat attendu :** message “Setup terminé. Les outils de visualisation sont prêts.” et un objet ``visualizer``."
   ]
  },
  {
   "cell_type": "code",
   "execution_count": null,
   "id": "8c1274f9",
   "metadata": {},
   "outputs": [],
   "source": [
    "# --- Imports des librairies externes ---\n",
    "import os\n",
    "\n",
    "# --- Imports de la librairie \"astrospectro\" ---\n",
    "from utils import setup_project_env\n",
    "from tools.visualizer import AstroVisualizer\n",
    "\n",
    "# --- Initialisation ---\n",
    "paths = setup_project_env()\n",
    "visualizer = AstroVisualizer(paths)\n",
    "\n",
    "print(\"\\nSetup terminé. Les outils de visualisation sont prêts.\")"
   ]
  },
  {
   "cell_type": "markdown",
   "id": "5da4b107",
   "metadata": {},
   "source": [
    "#"
   ]
  },
  {
   "cell_type": "markdown",
   "id": "10818d6b",
   "metadata": {},
   "source": [
    "<a id=\"dashboard\"></a>\n",
    "# 📊 Tableau de Bord de l’État du Dataset [↩︎](#toc)\n",
    "\n",
    "\n",
    "Mini-dashboard pour suivre la progression du dataset :\n",
    "\n",
    "1. **Inventaire des fichiers :** compte les ``*.fits.gz`` dans ``data/raw/``.\n",
    "2. **Fichiers utilisés :** lit ``trained_spectra.csv`` (si présent) et comptabilise les spectres déjà utilisés.\n",
    "3. **Aide au debug :** extrait la fin du log en cas d’erreur récente.\n",
    "\n",
    "> **Astuce.** Idéal avant un nouveau batch de téléchargement/traitement pour vérifier que tout est OK."
   ]
  },
  {
   "cell_type": "code",
   "execution_count": null,
   "id": "cc38aaae",
   "metadata": {},
   "outputs": [],
   "source": [
    "visualizer.display_dataset_dashboard()"
   ]
  },
  {
   "cell_type": "markdown",
   "id": "225ddd69",
   "metadata": {},
   "source": [
    "#"
   ]
  },
  {
   "cell_type": "markdown",
   "id": "dc298e25",
   "metadata": {},
   "source": [
    "<a id=\"fits\"></a>\n",
    "# 🔭 Explorateur de Header FITS [↩︎](#toc)\n",
    "\n",
    "\n",
    "Outil interactif pour ouvrir un spectre compressé (``.fits.gz``) et afficher les métadonnées structurées.\n",
    "\n",
    "**Utilisations typiques**\n",
    "\n",
    "- Contrôle qualité (coordonnées, type d’objet, seeing, date, filtre, etc.).\n",
    "- Debug ciblé d’un spectre “bizarre”.\n",
    "- Détection de valeurs aberrantes avant un run massif.\n",
    "\n",
    "> **Tip**. Compatible ``astropy.io.fits`` avec fichiers gzip — tu peux ouvrir directement depuis ``data/raw/``."
   ]
  },
  {
   "cell_type": "code",
   "execution_count": null,
   "id": "090f8f38",
   "metadata": {},
   "outputs": [],
   "source": [
    "visualizer.interactive_header_explorer()"
   ]
  },
  {
   "cell_type": "markdown",
   "id": "70bc4ea0",
   "metadata": {},
   "source": [
    "#"
   ]
  },
  {
   "cell_type": "markdown",
   "id": "96fa20d3",
   "metadata": {},
   "source": [
    "<a id=\"tuning\"></a>\n",
    "# 🎚️ Tuning Interactif des Raies [↩︎](#toc)\n",
    "\n",
    "\n",
    "Ajuste en direct les hyper-paramètres de détection de raies :\n",
    "\n",
    "- **Prominence :** hauteur minimale,\n",
    "- **Fenêtre :** largeur de la zone glissante autour du pic.\n",
    "\n",
    "**Objectif.** Tester visuellement l’impact des réglages et valider avant de relancer une détection globale.\n",
    "\n",
    "> **Bon réflexe.** Sauvegarde un screenshot du spectre “avant/après” quand un réglage te semble optimal."
   ]
  },
  {
   "cell_type": "code",
   "execution_count": null,
   "id": "544d562c",
   "metadata": {},
   "outputs": [],
   "source": [
    "visualizer.interactive_peak_tuner()"
   ]
  },
  {
   "cell_type": "markdown",
   "id": "c289fa1a",
   "metadata": {},
   "source": [
    "#"
   ]
  },
  {
   "cell_type": "markdown",
   "id": "3c2d99da",
   "metadata": {},
   "source": [
    "<a id=\"nulls\"></a>\n",
    "# 🧪 Analyse des Features Nulles [↩︎](#toc)\n",
    "\n",
    "\n",
    "Analyse la qualité des features extraites du dernier run :\n",
    "\n",
    "- Histogramme des colonnes avec trop de 0.0 ou de NaN,\n",
    "- Top des colonnes les plus manquantes,\n",
    "- Indicateurs simples (compte, min, max…).\n",
    "\n",
    "> **Quand l’utiliser ?** Juste après un batch d’extraction pour repérer les features à exclure/renommer/fixer."
   ]
  },
  {
   "cell_type": "code",
   "execution_count": null,
   "id": "020bcfa4",
   "metadata": {},
   "outputs": [],
   "source": [
    "visualizer.analyze_feature_zeros()"
   ]
  },
  {
   "cell_type": "markdown",
   "id": "3619d979",
   "metadata": {},
   "source": [
    "#"
   ]
  },
  {
   "cell_type": "markdown",
   "id": "15b0245b",
   "metadata": {},
   "source": [
    "<a id=\"sky\"></a>\n",
    "# 🗺️ Carte de Couverture Céleste [↩︎](#toc)\n",
    "\n",
    "\n",
    "Affiche une **projection Mollweide** des plans d’observation présents dans les fichiers téléchargés.\n",
    "\n",
    "- Visualise les **zones du ciel** couvertes (trous/chevauchements),\n",
    "- Utile pour détecter des **biais géographiques** (ex. hémisphère, bande galactique)."
   ]
  },
  {
   "cell_type": "code",
   "execution_count": null,
   "id": "b2efe576",
   "metadata": {},
   "outputs": [],
   "source": [
    "visualizer.plot_sky_coverage()"
   ]
  },
  {
   "cell_type": "markdown",
   "id": "720f194e",
   "metadata": {},
   "source": [
    "#"
   ]
  },
  {
   "cell_type": "markdown",
   "id": "8012887d",
   "metadata": {},
   "source": [
    "<a id=\"inspector\"></a>\n",
    "# 🧠 Inspecteur de Modèles Entraînés [↩︎](#toc)\n",
    "\n",
    "\n",
    "Charge un modèle ``.pkl`` (menu déroulant) et affiche :\n",
    "\n",
    "- **Les hyper-paramètres,**\n",
    "- La **feature importance** du classifieur (triée).\n",
    "\n",
    "> **À faire régulièrement.** Vérifier que les features dominantes restent cohérentes avec la physique (pas d’artéfact)."
   ]
  },
  {
   "cell_type": "code",
   "execution_count": null,
   "id": "6b9191c1",
   "metadata": {},
   "outputs": [],
   "source": [
    "visualizer.interactive_model_inspector()"
   ]
  },
  {
   "cell_type": "markdown",
   "id": "4ebe80b5",
   "metadata": {},
   "source": [
    "#"
   ]
  },
  {
   "cell_type": "markdown",
   "id": "64514922",
   "metadata": {},
   "source": [
    "<a id=\"compare-spectra\"></a>\n",
    "# 🧬 Comparateur de Spectres Interactif [↩︎](#toc)\n",
    "\n",
    "\n",
    "Superpose plusieurs spectres sur un même graphique pour une comparaison détaillée.\n",
    "\n",
    "**Cas d’usage**\n",
    "\n",
    "- **Même type :** comparer des étoiles d’un même type (variations fines),\n",
    "- **Types différents :** A vs M, etc.,\n",
    "- **Évolution temporelle :** suivre une étoile variable (multi-époques).\n",
    "\n",
    "**Contrôles**\n",
    "\n",
    "1. Sélection multiple (Ctrl/Cmd ou Shift).\n",
    "2. Option “**Normaliser les spectres**” (recommandé).\n",
    "3. Slider **Décalage Y** pour éviter le chevauchement."
   ]
  },
  {
   "cell_type": "code",
   "execution_count": null,
   "id": "887a83e8",
   "metadata": {},
   "outputs": [],
   "source": [
    "visualizer.interactive_spectra_comparator()"
   ]
  },
  {
   "cell_type": "markdown",
   "id": "36e59b9e",
   "metadata": {},
   "source": [
    "#"
   ]
  },
  {
   "cell_type": "markdown",
   "id": "343c90f0",
   "metadata": {},
   "source": [
    "<a id=\"compare-norm\"></a>\n",
    "# 🧼 Comparateur de Normalisation [↩︎](#toc)\n",
    "\n",
    "\n",
    "Génère une figure **Avant / Après** normalisation sur 2 spectres choisis au hasard (ou spécifiques si tu adaptes la cellule).\n",
    "\n",
    "- Panneau haut : **brut**\n",
    "- Panneau bas : **normalisé**\n",
    "- Sauvegarde automatique dans ``website/static/img/`` (chemin projet)"
   ]
  },
  {
   "cell_type": "code",
   "execution_count": null,
   "id": "6e7ac197",
   "metadata": {},
   "outputs": [],
   "source": [
    "visualizer.plot_normalization_comparison()"
   ]
  },
  {
   "cell_type": "markdown",
   "id": "4986826e",
   "metadata": {},
   "source": [
    "#"
   ]
  },
  {
   "cell_type": "markdown",
   "id": "ef9f9426",
   "metadata": {},
   "source": [
    "<a id=\"shap\"></a>\n",
    "# 🛰️ Analyse d’Interprétabilité (SHAP) [↩︎](#toc)\n",
    "\n",
    "\n",
    "Interface pour **tester un modèle entraîné** et visualiser l’influence des features.\n",
    "\n",
    "**Étapes**\n",
    "\n",
    "1. Choisir un ``.pkl`` dans ``data/models/``.\n",
    "2. Régler **Échantillons** (nombre de spectres utilisés).\n",
    "3. Lancer **Analyser**.\n",
    "\n",
    "**Sorties**\n",
    "\n",
    "- Tableau **mean(|SHAP|)** trié (Top N configurable),\n",
    "- Exports auto dans ``logs/shap/`` :\n",
    "    - ``shap_importances_<timestamp>.csv``\n",
    "    - ``shap_importances_<timestamp>.tex``"
   ]
  },
  {
   "cell_type": "code",
   "execution_count": null,
   "id": "c387d7d3",
   "metadata": {},
   "outputs": [],
   "source": [
    "visualizer.interactive_shap_explainer()"
   ]
  },
  {
   "cell_type": "markdown",
   "id": "ae563720",
   "metadata": {},
   "source": [
    "### Après l’analyse (optionnel) tu peux tracer :\n",
    "\n",
    "> Interprétation rapide. Plus mean(|SHAP|) est grand, plus la feature impacte le score du modèle (tous labels confondus)."
   ]
  },
  {
   "cell_type": "code",
   "execution_count": null,
   "id": "5b2dc365",
   "metadata": {},
   "outputs": [],
   "source": [
    "from datetime import datetime, timezone\n",
    "ts = datetime.now(timezone.utc).strftime(\"%Y%m%dT%H%M%SZ\")\n",
    "out_dir = os.path.join(visualizer.paths[\"LOGS_DIR\"], \"shap\"); os.makedirs(out_dir, exist_ok=True)\n",
    "\n",
    "visualizer.plot_shap_summary_bar(top_n=25, save_path=os.path.join(out_dir, f\"shap_bar_{ts}.png\"))\n",
    "visualizer.plot_shap_beeswarm(max_display=20, save_path=os.path.join(out_dir, f\"shap_beeswarm_{ts}.png\"))"
   ]
  },
  {
   "cell_type": "markdown",
   "id": "af4998e6",
   "metadata": {},
   "source": [
    "#"
   ]
  },
  {
   "cell_type": "markdown",
   "id": "ea28ca8f",
   "metadata": {},
   "source": [
    "<a id=\"subclasses\"></a>\n",
    "# 🏷️ Distribution des Sous-Classes [↩︎](#toc)\n",
    "\n",
    "\n",
    "Histogramme des **labels** (top-N configurable, ``%`` si ``normalize=True``).\n",
    "Permet de voir en un coup d’œil les **déséquilibres de classes**."
   ]
  },
  {
   "cell_type": "code",
   "execution_count": null,
   "id": "b6741142",
   "metadata": {},
   "outputs": [],
   "source": [
    "visualizer.plot_subclass_distribution(top_n=25, normalize=True)"
   ]
  },
  {
   "cell_type": "markdown",
   "id": "68bc84e7",
   "metadata": {},
   "source": [
    "<br/>"
   ]
  },
  {
   "cell_type": "markdown",
   "id": "d9122394",
   "metadata": {},
   "source": [
    "<a id=\"deep-features\"></a>\n",
    "# 🔎 Analyse en Profondeur des Features [↩︎](#toc)\n",
    "\n",
    "\n",
    "Pipeline **EDA → Corrélations → RandomForest → Permutation** Importance, avec **exports** dans ``logs/features/``.\n",
    "\n",
    "**Paramètres importants**\n",
    "\n",
    "- ``pattern`` : motif de chargement (par défaut ``data/processed/features_*.csv``),\n",
    "- ``m``ax_hists : nb de distributions tracées (triées par variance),\n",
    "- ``corr_top_n : taille de la heatmap de corrélation (top variance),\n",
    "- ``rf_estimators`` / ``random_state`` : RF pour importance “impurity-based”,\n",
    "- ``do_permutation=True`` : importance de permutation sur split validation.\n",
    "\n",
    "**Sorties**\n",
    "\n",
    "- Résumé global (nb lignes/colonnes, taux de missing),\n",
    "- **Top colonnes manquantes**,\n",
    "- Stats descriptives (numériques),\n",
    "- Distributions (top variance),\n",
    "- **Heatmap de corrélation**,\n",
    "- Importances **RF** et **Permutation** (tables + PNG).\n",
    "\n",
    "> **Note (split stratifié)**. Si certaines classes sont **trop rares**, la stratification est automatiquement **désactivée** (message dans la cellule). Ajoute des exemples ou fusionne des classes pour réactiver le split stratifié."
   ]
  },
  {
   "cell_type": "code",
   "execution_count": null,
   "id": "9ec6b9c8",
   "metadata": {},
   "outputs": [],
   "source": [
    "summary = visualizer.feature_explorer(\n",
    "    pattern=None,\n",
    "    save_dir=None,\n",
    "    max_hists=24,\n",
    "    corr_top_n=30,\n",
    "    rf_estimators=400,\n",
    "    random_state=42,\n",
    "    do_permutation=True,\n",
    ")\n",
    "\n",
    "# Re-tracer un bar chart des importances RF (si besoin, avec un autre top N)\n",
    "visualizer._plot_feature_importances_bar(\n",
    "    top_n=40,\n",
    "    save_path=os.path.join(summary[\"save_dir\"], \"rf_importances_top40.png\"))"
   ]
  },
  {
   "cell_type": "markdown",
   "id": "d6eb6c33",
   "metadata": {},
   "source": [
    "#\n",
    "#\n",
    "#\n"
   ]
  },
  {
   "cell_type": "code",
   "execution_count": null,
   "id": "056c8c90",
   "metadata": {},
   "outputs": [],
   "source": [
    "# === HR/RPM notebook helpers ===================================================\n",
    "import numpy as np\n",
    "import pandas as pd\n",
    "import matplotlib.pyplot as plt\n",
    "from datetime import datetime, timezone\n",
    "\n",
    "# (Optionnel) si tu veux sauvegarder dans data/reports/ automatiquement :\n",
    "try:\n",
    "    from utils import setup_project_env, ensure_dir, utc_now_tag\n",
    "    PATHS = setup_project_env(create_missing_dirs=True, verbose=False)\n",
    "    REPORTS_DIR = PATHS[\"REPORTS_DIR\"]\n",
    "except Exception:\n",
    "    REPORTS_DIR = \".\"\n",
    "\n",
    "def _utc_tag():\n",
    "    try:\n",
    "        return utc_now_tag()\n",
    "    except Exception:\n",
    "        return datetime.now(timezone.utc).strftime(\"%Y%m%dT%H%M%SZ\")\n",
    "\n",
    "def _pick_col(df: pd.DataFrame, prefer, fallback=()):\n",
    "    \"\"\"Retourne la 1re colonne existante dans `prefer` puis `fallback`, ou None.\"\"\"\n",
    "    for c in prefer:\n",
    "        if c in df.columns:\n",
    "            return c\n",
    "    for c in fallback:\n",
    "        if c in df.columns:\n",
    "            return c\n",
    "    return None\n",
    "\n",
    "def _quality_mask(df: pd.DataFrame, ruwe_col=None, snr_col=None, ruwe_max=1.4, snr_min=5):\n",
    "    mask = pd.Series(True, index=df.index)\n",
    "    if snr_col and snr_col in df.columns:\n",
    "        mask &= df[snr_col].fillna(0) >= snr_min\n",
    "    if ruwe_col and ruwe_col in df.columns:\n",
    "        if ruwe_col == \"is_good_ruwe\":\n",
    "            mask &= (df[ruwe_col] == 1)\n",
    "        else:\n",
    "            mask &= df[ruwe_col].fillna(10) < ruwe_max\n",
    "    return mask\n",
    "\n",
    "def _auto_cols_for_cmd(df: pd.DataFrame):\n",
    "    \"\"\"Détecte bp_rp & M_G (versions corrigées si présentes).\"\"\"\n",
    "    color = _pick_col(df, [\"bp_rp0\", \"bp_rp\"])\n",
    "    M_G   = _pick_col(df, [\"M_G0\", \"M_G\", \"M_G_dist\", \"M_G_parallax\"])\n",
    "    ruwe  = _pick_col(df, [\"ruwe\", \"is_good_ruwe\"])\n",
    "    snr   = _pick_col(df, [\"parallax_snr\"])\n",
    "    klass = _pick_col(df, [\"subclass\", \"main_class\", \"class\"])\n",
    "    return dict(color=color, M_G=M_G, ruwe=ruwe, snr=snr, klass=klass)\n",
    "\n",
    "def _auto_cols_for_rpm(df: pd.DataFrame):\n",
    "    \"\"\"Détecte bp_rp & H_G pour RPM.\"\"\"\n",
    "    color = _pick_col(df, [\"bp_rp0\", \"bp_rp\"])\n",
    "    H_G   = _pick_col(df, [\"H_G\"])\n",
    "    klass = _pick_col(df, [\"subclass\", \"main_class\", \"class\"])\n",
    "    return dict(color=color, H_G=H_G, klass=klass)\n"
   ]
  },
  {
   "cell_type": "code",
   "execution_count": null,
   "id": "1da2a961",
   "metadata": {},
   "outputs": [],
   "source": [
    "def plot_cmd(\n",
    "    df: pd.DataFrame,\n",
    "    *,\n",
    "    color_col: str | None = None,\n",
    "    M_G_col: str | None = None,\n",
    "    ruwe_col: str | None = None,\n",
    "    snr_col: str | None = None,\n",
    "    hue: str | None = None,\n",
    "    max_points: int = 80000,\n",
    "    s: float = 6.0,\n",
    "    alpha: float = 0.4,\n",
    "    title: str | None = None,\n",
    "    save_path: str | None = None,\n",
    "):\n",
    "    \"\"\"\n",
    "    Color–Magnitude Diagram (Gaia-like). Inverse l'axe Y (magnitudes).\n",
    "    - Autodétecte les colonnes si non spécifiées.\n",
    "    - Applique RUWE et SNR parallaxe si fournis.\n",
    "    - Peut colorer par une colonne catégorielle (ex. 'subclass').\n",
    "\n",
    "    Retourne: (fig, ax, used_df, cols_dict)\n",
    "    \"\"\"\n",
    "    auto = _auto_cols_for_cmd(df)\n",
    "    color_col = color_col or auto[\"color\"]\n",
    "    M_G_col   = M_G_col or auto[\"M_G\"]\n",
    "    ruwe_col  = ruwe_col or auto[\"ruwe\"]\n",
    "    snr_col   = snr_col or auto[\"snr\"]\n",
    "    hue       = hue or auto[\"klass\"]\n",
    "\n",
    "    if not color_col or not M_G_col:\n",
    "        raise ValueError(f\"Colonnes nécessaires introuvables. Trouvées: {auto}\")\n",
    "\n",
    "    mask = _quality_mask(df, ruwe_col=ruwe_col, snr_col=snr_col)\n",
    "    work = df[mask].copy()\n",
    "    work = work[work[color_col].notna() & work[M_G_col].notna()]\n",
    "\n",
    "    # Échantillonnage si dataset massif\n",
    "    if len(work) > max_points:\n",
    "        work = work.sample(max_points, random_state=42)\n",
    "\n",
    "    fig, ax = plt.subplots(figsize=(8, 9))\n",
    "\n",
    "    if hue and hue in work.columns:\n",
    "        cats = work[hue].astype(str).fillna(\"NA\")\n",
    "        codes, uniques = pd.factorize(cats, sort=True)\n",
    "        sc = ax.scatter(work[color_col], work[M_G_col], c=codes, s=s, alpha=alpha, cmap=\"tab20\")\n",
    "        # petite légende compacte (max ~20 classes pour éviter la surcharge)\n",
    "        max_leg = min(len(uniques), 20)\n",
    "        handles = [plt.Line2D([], [], marker=\"o\", linestyle=\"\", label=str(uniques[i])) for i in range(max_leg)]\n",
    "        ax.legend(handles=handles, labels=[str(uniques[i]) for i in range(max_leg)],\n",
    "                  title=hue, loc=\"upper left\", bbox_to_anchor=(1.02, 1), borderaxespad=0.)\n",
    "    else:\n",
    "        ax.scatter(work[color_col], work[M_G_col], s=s, alpha=alpha)\n",
    "\n",
    "    ax.invert_yaxis()\n",
    "    ax.set_xlabel(f\"{color_col} (mag)\")\n",
    "    ax.set_ylabel(f\"{M_G_col} (mag)\")\n",
    "    if not title:\n",
    "        title = f\"Color–Magnitude Diagram  |  N={len(work)}\"\n",
    "    ax.set_title(title)\n",
    "\n",
    "    plt.tight_layout()\n",
    "\n",
    "    if save_path is None:\n",
    "        save_path = f\"{REPORTS_DIR}/cmd_{_utc_tag()}.png\"\n",
    "    fig.savefig(save_path, dpi=180, bbox_inches=\"tight\")\n",
    "    print(f\"[CMD] Sauvegardé → {save_path}\")\n",
    "\n",
    "    return fig, ax, work, dict(color=color_col, M_G=M_G_col, ruwe=ruwe_col, snr=snr_col, hue=hue)\n",
    "\n",
    "\n",
    "def plot_rpm(\n",
    "    df: pd.DataFrame,\n",
    "    *,\n",
    "    color_col: str | None = None,\n",
    "    H_G_col: str | None = None,\n",
    "    hue: str | None = None,\n",
    "    max_points: int = 80000,\n",
    "    s: float = 6.0,\n",
    "    alpha: float = 0.4,\n",
    "    title: str | None = None,\n",
    "    save_path: str | None = None,\n",
    "):\n",
    "    \"\"\"\n",
    "    Reduced Proper Motion diagram (H_G vs couleur). Inverse Y comme un CMD.\n",
    "    Retourne: (fig, ax, used_df, cols_dict)\n",
    "    \"\"\"\n",
    "    auto = _auto_cols_for_rpm(df)\n",
    "    color_col = color_col or auto[\"color\"]\n",
    "    H_G_col   = H_G_col  or auto[\"H_G\"]\n",
    "    hue       = hue or auto[\"klass\"]\n",
    "\n",
    "    if not color_col or not H_G_col:\n",
    "        raise ValueError(f\"Colonnes nécessaires introuvables. Trouvées: {auto}\")\n",
    "\n",
    "    work = df.copy()\n",
    "    work = work[work[color_col].notna() & work[H_G_col].notna()]\n",
    "    if len(work) > max_points:\n",
    "        work = work.sample(max_points, random_state=42)\n",
    "\n",
    "    fig, ax = plt.subplots(figsize=(8, 9))\n",
    "\n",
    "    if hue and hue in work.columns:\n",
    "        cats = work[hue].astype(str).fillna(\"NA\")\n",
    "        codes, uniques = pd.factorize(cats, sort=True)\n",
    "        sc = ax.scatter(work[color_col], work[H_G_col], c=codes, s=s, alpha=alpha, cmap=\"tab20\")\n",
    "        max_leg = min(len(uniques), 20)\n",
    "        handles = [plt.Line2D([], [], marker=\"o\", linestyle=\"\", label=str(uniques[i])) for i in range(max_leg)]\n",
    "        ax.legend(handles=handles, labels=[str(uniques[i]) for i in range(max_leg)],\n",
    "                  title=hue, loc=\"upper left\", bbox_to_anchor=(1.02, 1), borderaxespad=0.)\n",
    "    else:\n",
    "        ax.scatter(work[color_col], work[H_G_col], s=s, alpha=alpha)\n",
    "\n",
    "    ax.invert_yaxis()\n",
    "    ax.set_xlabel(f\"{color_col} (mag)\")\n",
    "    ax.set_ylabel(f\"{H_G_col} (mag)\")\n",
    "    if not title:\n",
    "        title = f\"Reduced Proper Motion Diagram  |  N={len(work)}\"\n",
    "    ax.set_title(title)\n",
    "\n",
    "    plt.tight_layout()\n",
    "\n",
    "    if save_path is None:\n",
    "        save_path = f\"{REPORTS_DIR}/rpm_{_utc_tag()}.png\"\n",
    "    fig.savefig(save_path, dpi=180, bbox_inches=\"tight\")\n",
    "    print(f\"[RPM] Sauvegardé → {save_path}\")\n",
    "\n",
    "    return fig, ax, work, dict(color=color_col, H_G=H_G_col, hue=hue)\n"
   ]
  },
  {
   "cell_type": "code",
   "execution_count": null,
   "id": "e8937d85",
   "metadata": {},
   "outputs": [],
   "source": [
    "# Chemin vers ton fichier (met le tien ici)\n",
    "csv_path = \"../data/processed/features_20250825T235455Z.csv\"  # ou ton dernier features_*.csv\n",
    "df = pd.read_csv(csv_path)\n",
    "\n",
    "# HR (CMD) — couleur par sous-classe si dispo\n",
    "_, _, df_cmd, cols_cmd = plot_cmd(\n",
    "    df,\n",
    "    hue=\"subclass\",           # auto-retombe si la colonne n’existe pas\n",
    "    max_points=50000,         # échantillonnage pour rester fluide\n",
    ")\n",
    "print(\"Colonnes CMD utilisées:\", cols_cmd)\n",
    "\n",
    "# RPM — couleur par sous-classe si dispo\n",
    "_, _, df_rpm, cols_rpm = plot_rpm(\n",
    "    df,\n",
    "    hue=\"subclass\",\n",
    "    max_points=50000,\n",
    ")\n",
    "print(\"Colonnes RPM utilisées:\", cols_rpm)\n"
   ]
  }
 ],
 "metadata": {
  "kernelspec": {
   "display_name": "venv",
   "language": "python",
   "name": "python3"
  },
  "language_info": {
   "codemirror_mode": {
    "name": "ipython",
    "version": 3
   },
   "file_extension": ".py",
   "mimetype": "text/x-python",
   "name": "python",
   "nbconvert_exporter": "python",
   "pygments_lexer": "ipython3",
   "version": "3.13.3"
  }
 },
 "nbformat": 4,
 "nbformat_minor": 5
}
