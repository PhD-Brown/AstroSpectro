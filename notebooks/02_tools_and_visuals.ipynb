{
 "cells": [
  {
   "cell_type": "markdown",
   "id": "715b1eef",
   "metadata": {},
   "source": [
    "<a id=\"toc\"></a>\n",
    "\n",
    "# 📓 Notebook 02 – Outils et Visualisations DR5\n",
    "\n",
    "> But. Ce notebook regroupe des outils interactifs pour explorer, diagnostiquer et affiner les spectres téléchargés du catalogue LAMOST DR5, sans relancer le pipeline complet.  \n",
    "Usage. Chaque section explique à quoi ça sert, comment l’utiliser et ce qui est sauvegardé dans les dossiers de logs.\n",
    "\n",
    "Sommaire rapide\n",
    "- [🛠️ Setup & Imports](#setup)\n",
    "- [📊 Tableau de Bord de l’État du Dataset](#dashboard)\n",
    "- [🔭 Explorateur de Header FITS](#fits)\n",
    "- [🎚️ Tuning Interactif des Raies](#tuning)\n",
    "- [🧪 Analyse des Features Nulles](#nulls)\n",
    "- [🗺️ Carte de Couverture Céleste](#sky)\n",
    "- [🧠 Inspecteur de Modèles Entraînés](#inspector)\n",
    "- [🧬 Comparateur de Spectres Interactif](#compare-spectra)\n",
    "- [🧼 Comparateur de Normalisation](#compare-norm)\n",
    "- [🛰️ Analyse d’Interprétabilité (SHAP)](#shap)\n",
    "- [🏷️ Distribution des Sous-Classes](#subclasses)\n",
    "- [🔎 Analyse en Profondeur des Features](#deep-features)"
   ]
  },
  {
   "cell_type": "markdown",
   "id": "d2aadd40",
   "metadata": {},
   "source": [
    "#"
   ]
  },
  {
   "cell_type": "markdown",
   "id": "f6e84304",
   "metadata": {},
   "source": [
    "<a id=\"setup\"></a>\n",
    "# 🛠️ Setup & Imports [↩︎](#toc)\n",
    "\n",
    "Initialise l’environnement de travail (détection automatique de la racine du projet, ajout de ``src/`` au ``sys.path``) et charge :\n",
    "\n",
    "- ``AstroVisualizer`` : l’interface principale d’outils,\n",
    "\n",
    "- ``setup_project_env()`` : chemins & constantes (raw, catalog, models, logs…),\n",
    "\n",
    "- utilitaires du **pipeline** (si besoin de recharger un modèle).\n",
    "\n",
    "**Résultat attendu :** message “Setup terminé. Les outils de visualisation sont prêts.” et un objet ``visualizer``."
   ]
  },
  {
   "cell_type": "code",
   "execution_count": null,
   "id": "8c1274f9",
   "metadata": {},
   "outputs": [],
   "source": [
    "# --- Imports des librairies externes ---\n",
    "import os\n",
    "\n",
    "# --- Imports de la librairie \"astrospectro\" ---\n",
    "from utils import setup_project_env\n",
    "from tools.visualizer import AstroVisualizer\n",
    "\n",
    "# --- Initialisation ---\n",
    "paths = setup_project_env()\n",
    "visualizer = AstroVisualizer(paths)\n",
    "\n",
    "print(\"\\nSetup terminé. Les outils de visualisation sont prêts.\")"
   ]
  },
  {
   "cell_type": "markdown",
   "id": "5da4b107",
   "metadata": {},
   "source": [
    "#"
   ]
  },
  {
   "cell_type": "markdown",
   "id": "10818d6b",
   "metadata": {},
   "source": [
    "<a id=\"dashboard\"></a>\n",
    "# 📊 Tableau de Bord de l’État du Dataset [↩︎](#toc)\n",
    "\n",
    "\n",
    "Mini-dashboard pour suivre la progression du dataset :\n",
    "\n",
    "1. **Inventaire des fichiers :** compte les ``*.fits.gz`` dans ``data/raw/``.\n",
    "2. **Fichiers utilisés :** lit ``trained_spectra.csv`` (si présent) et comptabilise les spectres déjà utilisés.\n",
    "3. **Aide au debug :** extrait la fin du log en cas d’erreur récente.\n",
    "\n",
    "> **Astuce.** Idéal avant un nouveau batch de téléchargement/traitement pour vérifier que tout est OK."
   ]
  },
  {
   "cell_type": "code",
   "execution_count": null,
   "id": "cc38aaae",
   "metadata": {},
   "outputs": [],
   "source": [
    "visualizer.display_dataset_dashboard()"
   ]
  },
  {
   "cell_type": "markdown",
   "id": "225ddd69",
   "metadata": {},
   "source": [
    "#"
   ]
  },
  {
   "cell_type": "markdown",
   "id": "dc298e25",
   "metadata": {},
   "source": [
    "<a id=\"fits\"></a>\n",
    "# 🔭 Explorateur de Header FITS [↩︎](#toc)\n",
    "\n",
    "\n",
    "Outil interactif pour ouvrir un spectre compressé (``.fits.gz``) et afficher les métadonnées structurées.\n",
    "\n",
    "**Utilisations typiques**\n",
    "\n",
    "- Contrôle qualité (coordonnées, type d’objet, seeing, date, filtre, etc.).\n",
    "- Debug ciblé d’un spectre “bizarre”.\n",
    "- Détection de valeurs aberrantes avant un run massif.\n",
    "\n",
    "> **Tip**. Compatible ``astropy.io.fits`` avec fichiers gzip — tu peux ouvrir directement depuis ``data/raw/``."
   ]
  },
  {
   "cell_type": "code",
   "execution_count": null,
   "id": "090f8f38",
   "metadata": {},
   "outputs": [],
   "source": [
    "visualizer.interactive_header_explorer()"
   ]
  },
  {
   "cell_type": "markdown",
   "id": "70bc4ea0",
   "metadata": {},
   "source": [
    "#"
   ]
  },
  {
   "cell_type": "markdown",
   "id": "96fa20d3",
   "metadata": {},
   "source": [
    "<a id=\"tuning\"></a>\n",
    "# 🎚️ Tuning Interactif des Raies [↩︎](#toc)\n",
    "\n",
    "\n",
    "Ajuste en direct les hyper-paramètres de détection de raies :\n",
    "\n",
    "- **Prominence :** hauteur minimale,\n",
    "- **Fenêtre :** largeur de la zone glissante autour du pic.\n",
    "\n",
    "**Objectif.** Tester visuellement l’impact des réglages et valider avant de relancer une détection globale.\n",
    "\n",
    "> **Bon réflexe.** Sauvegarde un screenshot du spectre “avant/après” quand un réglage te semble optimal."
   ]
  },
  {
   "cell_type": "code",
   "execution_count": null,
   "id": "544d562c",
   "metadata": {},
   "outputs": [],
   "source": [
    "visualizer.interactive_peak_tuner()"
   ]
  },
  {
   "cell_type": "markdown",
   "id": "c289fa1a",
   "metadata": {},
   "source": [
    "#"
   ]
  },
  {
   "cell_type": "markdown",
   "id": "3c2d99da",
   "metadata": {},
   "source": [
    "<a id=\"nulls\"></a>\n",
    "# 🧪 Analyse des Features Nulles [↩︎](#toc)\n",
    "\n",
    "\n",
    "Analyse la qualité des features extraites du dernier run :\n",
    "\n",
    "- Histogramme des colonnes avec trop de 0.0 ou de NaN,\n",
    "- Top des colonnes les plus manquantes,\n",
    "- Indicateurs simples (compte, min, max…).\n",
    "\n",
    "> **Quand l’utiliser ?** Juste après un batch d’extraction pour repérer les features à exclure/renommer/fixer."
   ]
  },
  {
   "cell_type": "code",
   "execution_count": null,
   "id": "020bcfa4",
   "metadata": {},
   "outputs": [],
   "source": [
    "visualizer.analyze_feature_zeros()"
   ]
  },
  {
   "cell_type": "markdown",
   "id": "3619d979",
   "metadata": {},
   "source": [
    "#"
   ]
  },
  {
   "cell_type": "markdown",
   "id": "15b0245b",
   "metadata": {},
   "source": [
    "<a id=\"sky\"></a>\n",
    "# 🗺️ Carte de Couverture Céleste [↩︎](#toc)\n",
    "\n",
    "\n",
    "Affiche une **projection Mollweide** des plans d’observation présents dans les fichiers téléchargés.\n",
    "\n",
    "- Visualise les **zones du ciel** couvertes (trous/chevauchements),\n",
    "- Utile pour détecter des **biais géographiques** (ex. hémisphère, bande galactique)."
   ]
  },
  {
   "cell_type": "code",
   "execution_count": null,
   "id": "b2efe576",
   "metadata": {},
   "outputs": [],
   "source": [
    "visualizer.plot_sky_coverage()"
   ]
  },
  {
   "cell_type": "markdown",
   "id": "720f194e",
   "metadata": {},
   "source": [
    "#"
   ]
  },
  {
   "cell_type": "markdown",
   "id": "8012887d",
   "metadata": {},
   "source": [
    "<a id=\"inspector\"></a>\n",
    "# 🧠 Inspecteur de Modèles Entraînés [↩︎](#toc)\n",
    "\n",
    "\n",
    "Charge un modèle ``.pkl`` (menu déroulant) et affiche :\n",
    "\n",
    "- **Les hyper-paramètres,**\n",
    "- La **feature importance** du classifieur (triée).\n",
    "\n",
    "> **À faire régulièrement.** Vérifier que les features dominantes restent cohérentes avec la physique (pas d’artéfact)."
   ]
  },
  {
   "cell_type": "code",
   "execution_count": null,
   "id": "6b9191c1",
   "metadata": {},
   "outputs": [],
   "source": [
    "visualizer.interactive_model_inspector()"
   ]
  },
  {
   "cell_type": "markdown",
   "id": "4ebe80b5",
   "metadata": {},
   "source": [
    "#"
   ]
  },
  {
   "cell_type": "markdown",
   "id": "64514922",
   "metadata": {},
   "source": [
    "<a id=\"compare-spectra\"></a>\n",
    "# 🧬 Comparateur de Spectres Interactif [↩︎](#toc)\n",
    "\n",
    "\n",
    "Superpose plusieurs spectres sur un même graphique pour une comparaison détaillée.\n",
    "\n",
    "**Cas d’usage**\n",
    "\n",
    "- **Même type :** comparer des étoiles d’un même type (variations fines),\n",
    "- **Types différents :** A vs M, etc.,\n",
    "- **Évolution temporelle :** suivre une étoile variable (multi-époques).\n",
    "\n",
    "**Contrôles**\n",
    "\n",
    "1. Sélection multiple (Ctrl/Cmd ou Shift).\n",
    "2. Option “**Normaliser les spectres**” (recommandé).\n",
    "3. Slider **Décalage Y** pour éviter le chevauchement."
   ]
  },
  {
   "cell_type": "code",
   "execution_count": null,
   "id": "887a83e8",
   "metadata": {},
   "outputs": [],
   "source": [
    "visualizer.interactive_spectra_comparator()"
   ]
  },
  {
   "cell_type": "markdown",
   "id": "36e59b9e",
   "metadata": {},
   "source": [
    "#"
   ]
  },
  {
   "cell_type": "markdown",
   "id": "343c90f0",
   "metadata": {},
   "source": [
    "<a id=\"compare-norm\"></a>\n",
    "# 🧼 Comparateur de Normalisation [↩︎](#toc)\n",
    "\n",
    "\n",
    "Génère une figure **Avant / Après** normalisation sur 2 spectres choisis au hasard (ou spécifiques si tu adaptes la cellule).\n",
    "\n",
    "- Panneau haut : **brut**\n",
    "- Panneau bas : **normalisé**\n",
    "- Sauvegarde automatique dans ``website/static/img/`` (chemin projet)"
   ]
  },
  {
   "cell_type": "code",
   "execution_count": null,
   "id": "6e7ac197",
   "metadata": {},
   "outputs": [],
   "source": [
    "visualizer.plot_normalization_comparison()"
   ]
  },
  {
   "cell_type": "markdown",
   "id": "4986826e",
   "metadata": {},
   "source": [
    "#"
   ]
  },
  {
   "cell_type": "markdown",
   "id": "ef9f9426",
   "metadata": {},
   "source": [
    "<a id=\"shap\"></a>\n",
    "# 🛰️ Analyse d’Interprétabilité (SHAP) [↩︎](#toc)\n",
    "\n",
    "\n",
    "Interface pour **tester un modèle entraîné** et visualiser l’influence des features.\n",
    "\n",
    "**Étapes**\n",
    "\n",
    "1. Choisir un ``.pkl`` dans ``data/models/``.\n",
    "2. Régler **Échantillons** (nombre de spectres utilisés).\n",
    "3. Lancer **Analyser**.\n",
    "\n",
    "**Sorties**\n",
    "\n",
    "- Tableau **mean(|SHAP|)** trié (Top N configurable),\n",
    "- Exports auto dans ``logs/shap/`` :\n",
    "    - ``shap_importances_<timestamp>.csv``\n",
    "    - ``shap_importances_<timestamp>.tex``"
   ]
  },
  {
   "cell_type": "code",
   "execution_count": null,
   "id": "c387d7d3",
   "metadata": {},
   "outputs": [],
   "source": [
    "visualizer.interactive_shap_explainer()"
   ]
  },
  {
   "cell_type": "markdown",
   "id": "ae563720",
   "metadata": {},
   "source": [
    "### Après l’analyse (optionnel) tu peux tracer :\n",
    "\n",
    "> Interprétation rapide. Plus mean(|SHAP|) est grand, plus la feature impacte le score du modèle (tous labels confondus)."
   ]
  },
  {
   "cell_type": "code",
   "execution_count": null,
   "id": "5b2dc365",
   "metadata": {},
   "outputs": [],
   "source": [
    "from datetime import datetime, timezone\n",
    "ts = datetime.now(timezone.utc).strftime(\"%Y%m%dT%H%M%SZ\")\n",
    "out_dir = os.path.join(visualizer.paths[\"LOGS_DIR\"], \"shap\"); os.makedirs(out_dir, exist_ok=True)\n",
    "\n",
    "visualizer.plot_shap_summary_bar(top_n=25, save_path=os.path.join(out_dir, f\"shap_bar_{ts}.png\"))\n",
    "visualizer.plot_shap_beeswarm(max_display=20, save_path=os.path.join(out_dir, f\"shap_beeswarm_{ts}.png\"))"
   ]
  },
  {
   "cell_type": "markdown",
   "id": "af4998e6",
   "metadata": {},
   "source": [
    "#"
   ]
  },
  {
   "cell_type": "markdown",
   "id": "ea28ca8f",
   "metadata": {},
   "source": [
    "<a id=\"subclasses\"></a>\n",
    "# 🏷️ Distribution des Sous-Classes [↩︎](#toc)\n",
    "\n",
    "\n",
    "Histogramme des **labels** (top-N configurable, ``%`` si ``normalize=True``).\n",
    "Permet de voir en un coup d’œil les **déséquilibres de classes**."
   ]
  },
  {
   "cell_type": "code",
   "execution_count": null,
   "id": "b6741142",
   "metadata": {},
   "outputs": [],
   "source": [
    "visualizer.plot_subclass_distribution(top_n=25, normalize=True)"
   ]
  },
  {
   "cell_type": "markdown",
   "id": "68bc84e7",
   "metadata": {},
   "source": [
    "<br/>"
   ]
  },
  {
   "cell_type": "markdown",
   "id": "d9122394",
   "metadata": {},
   "source": [
    "<a id=\"deep-features\"></a>\n",
    "# 🔎 Analyse en Profondeur des Features [↩︎](#toc)\n",
    "\n",
    "\n",
    "Pipeline **EDA → Corrélations → RandomForest → Permutation** Importance, avec **exports** dans ``logs/features/``.\n",
    "\n",
    "**Paramètres importants**\n",
    "\n",
    "- ``pattern`` : motif de chargement (par défaut ``data/processed/features_*.csv``),\n",
    "- ``m``ax_hists : nb de distributions tracées (triées par variance),\n",
    "- ``corr_top_n : taille de la heatmap de corrélation (top variance),\n",
    "- ``rf_estimators`` / ``random_state`` : RF pour importance “impurity-based”,\n",
    "- ``do_permutation=True`` : importance de permutation sur split validation.\n",
    "\n",
    "**Sorties**\n",
    "\n",
    "- Résumé global (nb lignes/colonnes, taux de missing),\n",
    "- **Top colonnes manquantes**,\n",
    "- Stats descriptives (numériques),\n",
    "- Distributions (top variance),\n",
    "- **Heatmap de corrélation**,\n",
    "- Importances **RF** et **Permutation** (tables + PNG).\n",
    "\n",
    "> **Note (split stratifié)**. Si certaines classes sont **trop rares**, la stratification est automatiquement **désactivée** (message dans la cellule). Ajoute des exemples ou fusionne des classes pour réactiver le split stratifié."
   ]
  },
  {
   "cell_type": "code",
   "execution_count": null,
   "id": "9ec6b9c8",
   "metadata": {},
   "outputs": [],
   "source": [
    "summary = visualizer.feature_explorer(\n",
    "    pattern=None,\n",
    "    save_dir=None,\n",
    "    max_hists=24,\n",
    "    corr_top_n=30,\n",
    "    rf_estimators=400,\n",
    "    random_state=42,\n",
    "    do_permutation=True,\n",
    ")\n",
    "\n",
    "# Re-tracer un bar chart des importances RF (si besoin, avec un autre top N)\n",
    "visualizer._plot_feature_importances_bar(\n",
    "    top_n=40,\n",
    "    save_path=os.path.join(summary[\"save_dir\"], \"rf_importances_top40.png\"))"
   ]
  }
 ],
 "metadata": {
  "kernelspec": {
   "display_name": "venv",
   "language": "python",
   "name": "python3"
  },
  "language_info": {
   "codemirror_mode": {
    "name": "ipython",
    "version": 3
   },
   "file_extension": ".py",
   "mimetype": "text/x-python",
   "name": "python",
   "nbconvert_exporter": "python",
   "pygments_lexer": "ipython3",
   "version": "3.13.3"
  }
 },
 "nbformat": 4,
 "nbformat_minor": 5
}
