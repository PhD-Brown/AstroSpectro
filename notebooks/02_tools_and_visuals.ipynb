{
 "cells": [
  {
   "cell_type": "markdown",
   "id": "715b1eef",
   "metadata": {},
   "source": [
    "# 📓 Notebook 02 – Outils et Visualisations DR5\n",
    "\n",
    "> But : Ce notebook regroupe les outils interactifs développés pour explorer, diagnostiquer et affiner les spectres téléchargés du catalogue LAMOST DR5, sans relancer le pipeline complet.  \n",
    "> Il est destiné à l’analyse exploratoire rapide, à la visualisation augmentée, et au debug scientifique.\n",
    "\n",
    "<br/>"
   ]
  },
  {
   "cell_type": "markdown",
   "id": "f6e84304",
   "metadata": {},
   "source": [
    "## ⚙️ Setup & Imports\n",
    "L'environnement est initialisé dynamiquement avec détection de la racine du projet et ajout du dossier ``src/`` au ``sys.path``.  \n",
    "On y importe les classes utilitaires ``AstroVisualizer`` et ``setup_project_env``."
   ]
  },
  {
   "cell_type": "code",
   "execution_count": null,
   "id": "8c1274f9",
   "metadata": {},
   "outputs": [],
   "source": [
    "# --- Imports des librairies externes ---\n",
    "import os\n",
    "import sys\n",
    "from IPython.display import display, Markdown\n",
    "\n",
    "# --- Imports de la librairie \"astrospectro\" ---\n",
    "from utils import setup_project_env\n",
    "from tools.visualizer import AstroVisualizer\n",
    "from pipeline.classifier import SpectralClassifier\n",
    "\n",
    "# --- Initialisation ---\n",
    "paths = setup_project_env()\n",
    "visualizer = AstroVisualizer(paths)\n",
    "\n",
    "print(\"\\nSetup terminé. Les outils de visualisation sont prêts.\")"
   ]
  },
  {
   "cell_type": "markdown",
   "id": "5da4b107",
   "metadata": {},
   "source": [
    "#"
   ]
  },
  {
   "cell_type": "markdown",
   "id": "10818d6b",
   "metadata": {},
   "source": [
    "## Tableau de Bord de l'État du Dataset\n",
    "\n",
    "1. **Importe ``DatasetBuilder`` :** On réutilise l'outil conçu pour gérer les lots d'entraînement.\n",
    "2. ``_list_available_fits()`` : On appelle cette méthode pour qu'elle scanne le dossier ``data/raw/`` et compte tous les fichiers ``.fits.gz`` téléchargés.\n",
    "3. ``_load_trained_log()`` : On appelle cette méthode pour qu'elle lise le ``fichier trained_spectra.csv`` et compte combien de spectres ont déjà été marqués comme \"_utilisés_\"."
   ]
  },
  {
   "cell_type": "code",
   "execution_count": null,
   "id": "cc38aaae",
   "metadata": {},
   "outputs": [],
   "source": [
    "visualizer.display_dataset_dashboard()"
   ]
  },
  {
   "cell_type": "markdown",
   "id": "225ddd69",
   "metadata": {},
   "source": [
    "#"
   ]
  },
  {
   "cell_type": "markdown",
   "id": "dc298e25",
   "metadata": {},
   "source": [
    "## 🧠 Explorateur de Header FITS\n",
    "\n",
    "Outil interactif permettant de charger dynamiquement un spectre ``.fits.gz`` et d’en afficher les métadonnées structurées.\n",
    "\n",
    "### **Utilisation typique :**\n",
    "\n",
    "- Vérifier la cohérence des champs : coordonnées, type d’objet, date, filtre, seeing…\n",
    "- Déboguer un spectre problématique\n",
    "- Détecter des valeurs aberrantes avant traitement massif\n",
    "\n",
    "*Compatible avec les headers compressés grâce à ``astropy.io.fits.``*"
   ]
  },
  {
   "cell_type": "code",
   "execution_count": null,
   "id": "090f8f38",
   "metadata": {},
   "outputs": [],
   "source": [
    "display(Markdown(\"## Explorateur de Header FITS\"))\n",
    "display(Markdown(\"Utilisez le menu déroulant pour sélectionner un spectre et afficher ses métadonnées complètes.\"))\n",
    "visualizer.interactive_header_explorer()"
   ]
  },
  {
   "cell_type": "markdown",
   "id": "70bc4ea0",
   "metadata": {},
   "source": [
    "#"
   ]
  },
  {
   "cell_type": "markdown",
   "id": "96fa20d3",
   "metadata": {},
   "source": [
    "## ⚗️ Tuning Interactif des Raies Spectrales\n",
    "\n",
    "Permet d’ajuster en direct les paramètres de détection des raies spectrales :\n",
    "\n",
    "- **Prominence** (hauteur minimale pour détecter un pic)\n",
    "- **Fenêtre** (largeur du sliding window autour du pic)\n",
    "\n",
    "**Objectif : tester visuellement les hyperparamètres avant traitement global du dataset.**"
   ]
  },
  {
   "cell_type": "code",
   "execution_count": null,
   "id": "544d562c",
   "metadata": {},
   "outputs": [],
   "source": [
    "display(Markdown(\"--- \\n## Analyseur de Spectre Augmenté\"))\n",
    "display(Markdown(\n",
    "    \"Cet outil tout-en-un vous permet de visualiser un spectre, d'ajuster les \"\n",
    "    \"paramètres de détection de pics en temps réel, et d'évaluer la qualité \"\n",
    "    \"des données et de l'analyse.\"\n",
    "))\n",
    "\n",
    "from tools.visualizer import AstroVisualizer\n",
    "visualizer = AstroVisualizer(paths)\n",
    "# Cet appel unique crée maintenant l'interface complète\n",
    "visualizer.interactive_peak_tuner()"
   ]
  },
  {
   "cell_type": "markdown",
   "id": "c289fa1a",
   "metadata": {},
   "source": [
    "#"
   ]
  },
  {
   "cell_type": "markdown",
   "id": "3c2d99da",
   "metadata": {},
   "source": [
    "## 🧼 Analyse des Features Nulles\n",
    "Analyse de qualité des données extraites, avec graphique à barres des colonnes avec trop de valeurs nulles ``(0.0)``."
   ]
  },
  {
   "cell_type": "code",
   "execution_count": null,
   "id": "020bcfa4",
   "metadata": {},
   "outputs": [],
   "source": [
    "display(Markdown(\"--- \\n## Analyse de la Qualité des Features\"))\n",
    "display(Markdown(\"Cet outil analyse le dernier fichier de features généré et montre le pourcentage de valeurs nulles pour chaque feature. C'est essentiel pour identifier les features peu informatives.\"))\n",
    "visualizer.analyze_feature_zeros()"
   ]
  },
  {
   "cell_type": "markdown",
   "id": "3619d979",
   "metadata": {},
   "source": [
    "#"
   ]
  },
  {
   "cell_type": "markdown",
   "id": "15b0245b",
   "metadata": {},
   "source": [
    "## 🌌 Carte de Couverture Céleste\n",
    "\n",
    "Affiche une **projection Mollweide** des plans d’observation inclus dans les spectres téléchargés."
   ]
  },
  {
   "cell_type": "code",
   "execution_count": null,
   "id": "b2efe576",
   "metadata": {},
   "outputs": [],
   "source": [
    "display(Markdown(\"--- \\n## Carte de Couverture Céleste\"))\n",
    "display(Markdown(\"Cette carte montre la position des plans d'observation que tu as téléchargés. La taille et la couleur des points indiquent le nombre de spectres par plan.\"))\n",
    "visualizer.plot_sky_coverage()"
   ]
  },
  {
   "cell_type": "markdown",
   "id": "720f194e",
   "metadata": {},
   "source": [
    "#"
   ]
  },
  {
   "cell_type": "markdown",
   "id": "8012887d",
   "metadata": {},
   "source": [
    "## 🔎 Inspecteur de Modèles Entraînés\n",
    "\n",
    "Outil permettant d'explorer les modèles sauvegardés ``.pkl`` :\n",
    "\n",
    "- Visualisation des hyperparamètres\n",
    "- Affichage de la feature importance (triée)\n",
    "\n",
    "**Très utile pour analyser la qualité du classifieur, l’importance des raies spectrales, et affiner le feature engineering.**"
   ]
  },
  {
   "cell_type": "code",
   "execution_count": null,
   "id": "6b9191c1",
   "metadata": {},
   "outputs": [],
   "source": [
    "display(Markdown(\"--- \\n## Inspecteur de Modèles Entraînés\"))\n",
    "display(Markdown(\n",
    "    \"Utilisez le menu déroulant pour sélectionner un modèle `.pkl` sauvegardé. \"\n",
    "    \"Cet outil affichera ses hyperparamètres et un graphique montrant l'importance de chaque feature \"\n",
    "    \"pour la classification.\"\n",
    "))\n",
    "\n",
    "# Cet appel unique crée l'interface d'inspection\n",
    "visualizer.interactive_model_inspector()"
   ]
  },
  {
   "cell_type": "markdown",
   "id": "4ebe80b5",
   "metadata": {},
   "source": [
    "#"
   ]
  },
  {
   "cell_type": "markdown",
   "id": "64514922",
   "metadata": {},
   "source": [
    "## 🔭 Comparateur de Spectres Interactif\n",
    "\n",
    "Cet outil puissant vous permet de superposer plusieurs spectres sur un même graphique pour une analyse comparative détaillée. C'est un instrument essentiel pour :\n",
    "\n",
    "-   **Comparer des Étoiles de Même Type :** Visualisez les variations subtiles entre plusieurs étoiles de type 'G', par exemple.\n",
    "-   **Comparer des Types Différents :** Superposez un spectre de type 'A' et un de type 'M' pour voir de vos propres yeux les différences fondamentales dans leurs signatures spectrales.\n",
    "-   **Analyser l'Évolution Temporelle :** Si vous avez plusieurs observations d'une même étoile variable, vous pouvez les superposer pour étudier son évolution.\n",
    "\n",
    "### Utilisation\n",
    "\n",
    "1.  **Sélection Multiple :** Cliquez sur les noms de fichiers dans la liste. Maintenez la touche `Ctrl` (ou `Cmd` sur Mac) pour sélectionner plusieurs fichiers individuellement, ou `Shift` pour sélectionner une plage continue.\n",
    "2.  **Normalisation :** Cochez la case \"Normaliser les spectres\" (recommandé) pour ramener tous les spectres à une échelle comparable.\n",
    "3.  **Décalage Vertical :** Utilisez le slider \"Décalage Y\" pour espacer verticalement les spectres afin de mieux les distinguer et éviter qu'ils ne se chevauchent."
   ]
  },
  {
   "cell_type": "code",
   "execution_count": null,
   "id": "887a83e8",
   "metadata": {},
   "outputs": [],
   "source": [
    "display(Markdown(\"--- \\n## Comparateur de Spectres\"))\n",
    "display(Markdown(\"Sélectionnez plusieurs spectres (maintenez `Ctrl` ou `Shift`) pour les superposer. Ajustez le décalage pour mieux les distinguer.\"))\n",
    "visualizer.interactive_spectra_comparator()"
   ]
  },
  {
   "cell_type": "markdown",
   "id": "36e59b9e",
   "metadata": {},
   "source": [
    "#"
   ]
  },
  {
   "cell_type": "markdown",
   "id": "343c90f0",
   "metadata": {},
   "source": [
    "## Comparateur de normalisation de spectre (en développement)\n",
    "\n",
    "*Cellule pour générer la figure de normalisation \"Avant/Après\"*"
   ]
  },
  {
   "cell_type": "code",
   "execution_count": null,
   "id": "6e7ac197",
   "metadata": {},
   "outputs": [],
   "source": [
    "visualizer.plot_normalization_comparison()"
   ]
  },
  {
   "cell_type": "markdown",
   "id": "4986826e",
   "metadata": {},
   "source": [
    "#"
   ]
  },
  {
   "cell_type": "markdown",
   "id": "ef9f9426",
   "metadata": {},
   "source": [
    "## Cellule : Analyse d'Interprétabilité des Modèles (SHAP)"
   ]
  },
  {
   "cell_type": "code",
   "execution_count": null,
   "id": "c387d7d3",
   "metadata": {},
   "outputs": [],
   "source": [
    "visualizer.interactive_shap_explainer()"
   ]
  },
  {
   "cell_type": "markdown",
   "id": "5eb2f469",
   "metadata": {},
   "source": [
    "#"
   ]
  },
  {
   "cell_type": "code",
   "execution_count": null,
   "id": "5b2dc365",
   "metadata": {},
   "outputs": [],
   "source": [
    "from datetime import datetime, timezone\n",
    "ts = datetime.now(timezone.utc).strftime(\"%Y%m%dT%H%M%SZ\")\n",
    "out_dir = os.path.join(visualizer.paths[\"LOGS_DIR\"], \"shap\"); os.makedirs(out_dir, exist_ok=True)\n",
    "\n",
    "visualizer.plot_shap_summary_bar(top_n=25, save_path=os.path.join(out_dir, f\"shap_bar_{ts}.png\"))\n",
    "visualizer.plot_shap_beeswarm(max_display=20, save_path=os.path.join(out_dir, f\"shap_beeswarm_{ts}.png\"))"
   ]
  },
  {
   "cell_type": "markdown",
   "id": "af4998e6",
   "metadata": {},
   "source": [
    "#"
   ]
  },
  {
   "cell_type": "markdown",
   "id": "ea28ca8f",
   "metadata": {},
   "source": [
    "## Distribution des 50 sous-classes les plus fréquentes"
   ]
  },
  {
   "cell_type": "code",
   "execution_count": null,
   "id": "b6741142",
   "metadata": {},
   "outputs": [],
   "source": [
    "# Distribution des sous-classes (top 15, en %)\n",
    "visualizer.plot_subclass_distribution(top_n=25, normalize=True)"
   ]
  },
  {
   "cell_type": "markdown",
   "id": "68bc84e7",
   "metadata": {},
   "source": [
    "<br/>\n",
    "<br/>"
   ]
  },
  {
   "cell_type": "markdown",
   "id": "d9122394",
   "metadata": {},
   "source": [
    "### Analyse en profondeur des features "
   ]
  },
  {
   "cell_type": "code",
   "execution_count": null,
   "id": "9ec6b9c8",
   "metadata": {},
   "outputs": [],
   "source": [
    "# Lancement complet (EDA + corr + RF + permutation) et sauvegardes dans logs/features/\n",
    "summary = visualizer.feature_explorer(\n",
    "    pattern=None,               # auto: <PROJECT_ROOT>/data/processed/features_*.csv\n",
    "    save_dir=None,              # auto: <LOGS_DIR>/features\n",
    "    max_hists=24,\n",
    "    corr_top_n=30,\n",
    "    rf_estimators=400,\n",
    "    random_state=42,\n",
    "    do_permutation=True,\n",
    ")\n",
    "\n",
    "# Re-tracer un bar chart des importances RF (si besoin, avec un autre top N)\n",
    "visualizer._plot_feature_importances_bar(top_n=40,\n",
    "    save_path=os.path.join(summary[\"save_dir\"], \"rf_importances_top40.png\"))\n"
   ]
  }
 ],
 "metadata": {
  "kernelspec": {
   "display_name": "venv",
   "language": "python",
   "name": "python3"
  },
  "language_info": {
   "codemirror_mode": {
    "name": "ipython",
    "version": 3
   },
   "file_extension": ".py",
   "mimetype": "text/x-python",
   "name": "python",
   "nbconvert_exporter": "python",
   "pygments_lexer": "ipython3",
   "version": "3.13.3"
  }
 },
 "nbformat": 4,
 "nbformat_minor": 5
}
