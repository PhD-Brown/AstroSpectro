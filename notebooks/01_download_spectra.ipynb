{
 "cells": [
  {
   "cell_type": "markdown",
   "id": "c5e6ccc7",
   "metadata": {},
   "source": [
    "# 📥 Notebook 01 – Téléchargement des Spectres DR5\n",
    "\n",
    "Ce notebook télécharge un lot de spectres .fits.gz du catalogue LAMOST DR5 à l’aide du script `dr5_downloader.py`.  \n",
    "Il est conçu pour être exécuté **seulement lorsque de nouveaux spectres sont nécessaires**, afin d’alimenter le répertoire `data/raw/` en données brutes.\n",
    "\n",
    "## ⚙️ Paramètres principaux\n",
    "\n",
    "- `limit` : Nombre de plans de spectres à télécharger (chaque plan contient plusieurs spectres).\n",
    "- `max_spectres` : Nombre maximum de spectres à télécharger.\n",
    "- ``Workers`` : combien de ``.fits.gz`` en parallèle - Phase 2 du téléchargement.\n",
    "- ``Scrape`` : combien de pages de plans analysées en parallèle - Phase 1 du téléchargement.\n",
    "\n",
    "**Valeurs conseillées (règles rapides)**\n",
    "\n",
    "- 1–3 plans : **Scrape** = 1–3\n",
    "- 5–10 plans : **Scrape** = 6–8\n",
    "- 10–30 plans : **Scrape** = 8–12\n",
    "- Garde **Workers** (téléchargements) plus haut que Scrape en général, p.ex. **Workers 12–20, Scrape 6–12**.\n",
    "<br/>\n",
    "\n",
    "**Exécution** : Lance la cellule ci-dessous pour télécharger de nouveaux spectres depuis le catalogue public DR5."
   ]
  },
  {
   "cell_type": "code",
   "execution_count": null,
   "id": "6349f382",
   "metadata": {},
   "outputs": [
    {
     "name": "stdout",
     "output_type": "stream",
     "text": [
      "[INFO] Racine du projet détectée : C:\\Users\\alexb\\Documents\\Google_Cloud\\alex_labs_google_sprint\\astro_spectro_git\n",
      "[INFO] Dossier 'src' ajouté au sys.path.\n"
     ]
    },
    {
     "data": {
      "text/markdown": [
       "### 1. Téléchargement des Spectres"
      ],
      "text/plain": [
       "<IPython.core.display.Markdown object>"
      ]
     },
     "metadata": {},
     "output_type": "display_data"
    },
    {
     "data": {
      "text/markdown": [
       "Utilisez l’interface ci-dessous pour lancer un nouveau téléchargement. Les logs de progression s’afficheront en temps réel.\n",
       "\n",
       "**Astuces** : Workers = téléchargements parallèles; Scrape = parallélisme d’analyse des pages plan; Par plan = coupe la liste par plan; Valider FITS = vérif header; Dry‑run = aperçu sans écriture."
      ],
      "text/plain": [
       "<IPython.core.display.Markdown object>"
      ]
     },
     "metadata": {},
     "output_type": "display_data"
    },
    {
     "data": {
      "application/vnd.jupyter.widget-view+json": {
       "model_id": "d0fb1c427a8f4b8fa509ba66c9c4efa8",
       "version_major": 2,
       "version_minor": 0
      },
      "text/plain": [
       "HBox(children=(Dropdown(description='Préréglages:', index=1, options=(('Cautious (8/4)', 'cautious'), ('Balanc…"
      ]
     },
     "metadata": {},
     "output_type": "display_data"
    },
    {
     "data": {
      "application/vnd.jupyter.widget-view+json": {
       "model_id": "c6c6098bc98949968b4738a9288a6809",
       "version_major": 2,
       "version_minor": 0
      },
      "text/plain": [
       "HBox(children=(IntText(value=5, description='Plans:'), IntText(value=50, description='Spectres:'), Checkbox(va…"
      ]
     },
     "metadata": {},
     "output_type": "display_data"
    },
    {
     "data": {
      "application/vnd.jupyter.widget-view+json": {
       "model_id": "837ac531f6dd4674885d031fb90215ff",
       "version_major": 2,
       "version_minor": 0
      },
      "text/plain": [
       "HBox(children=(IntSlider(value=16, description='Workers', max=32, min=1), IntSlider(value=8, description='Scra…"
      ]
     },
     "metadata": {},
     "output_type": "display_data"
    },
    {
     "data": {
      "application/vnd.jupyter.widget-view+json": {
       "model_id": "cdd24d2ef0af46e7b6b5fae2a31c9319",
       "version_major": 2,
       "version_minor": 0
      },
      "text/plain": [
       "HBox(children=(IntText(value=0, description='Par plan:'), Checkbox(value=True, description='Valider FITS'), Ch…"
      ]
     },
     "metadata": {},
     "output_type": "display_data"
    },
    {
     "data": {
      "application/vnd.jupyter.widget-view+json": {
       "model_id": "7746347fff66400bac8903768d82fe3c",
       "version_major": 2,
       "version_minor": 0
      },
      "text/plain": [
       "Button(button_style='success', description='Lancer le téléchargement…', icon='download', style=ButtonStyle())"
      ]
     },
     "metadata": {},
     "output_type": "display_data"
    },
    {
     "data": {
      "application/vnd.jupyter.widget-view+json": {
       "model_id": "de4c8d87b2be445fab50a7528018a882",
       "version_major": 2,
       "version_minor": 0
      },
      "text/plain": [
       "HTML(value='')"
      ]
     },
     "metadata": {},
     "output_type": "display_data"
    },
    {
     "data": {
      "application/vnd.jupyter.widget-view+json": {
       "model_id": "6946744f4a1041b2a8d1a403e6b1da64",
       "version_major": 2,
       "version_minor": 0
      },
      "text/plain": [
       "Output()"
      ]
     },
     "metadata": {},
     "output_type": "display_data"
    }
   ],
   "source": [
    "from IPython.display import display, Markdown \n",
    "from utils import setup_project_env\n",
    "from tools.spectra_manager import SpectraManager\n",
    "\n",
    "# Initialisation de l'environnement et des chemins\n",
    "paths = setup_project_env()\n",
    "\n",
    "# Instanciation du gestionnaire de spectres\n",
    "manager = SpectraManager(paths)\n",
    "\n",
    "manager.interactive_downloader()"
   ]
  },
  {
   "cell_type": "markdown",
   "id": "493e47ee",
   "metadata": {},
   "source": [
    "#"
   ]
  },
  {
   "cell_type": "markdown",
   "id": "7079cfdc",
   "metadata": {},
   "source": [
    "# 🧹 Option de Nettoyage\n",
    "Il peut arriver que tu souhaites nettoyer entièrement le répertoire ``data/raw/`` avant de relancer un téléchargement, notamment pour repartir d’un dossier vierge ou libérer de l’espace.\n",
    "\n",
    "Cette option de nettoyage intègre deux niveaux de protection pour éviter toute suppression accidentelle :\n",
    "\n",
    "- Confirmation interactive :\n",
    "Un bouton de confirmation via un widget (ou une autre méthode comme input()) demande explicitement ton accord avant d’exécuter la suppression.\n",
    "\n",
    "- Sauvegarde automatique :\n",
    "Avant de vider le répertoire, le script réalise une copie complète de data/raw/ dans un dossier temporaire nommé data/raw_backup/.\n",
    "\n",
    "Cela te permet de restaurer tes spectres si jamais tu as validé la suppression par erreur.\n",
    "\n",
    "**Important :**\n",
    "\n",
    "- Le dossier de sauvegarde est écrasé à chaque nouvelle exécution de l’option.\n",
    "\n",
    "- Tu peux restaurer des fichiers en récupérant les spectres depuis data/raw_backup/ tant que tu n’as pas relancé un nettoyage.\n",
    "\n",
    "**Pourquoi utiliser cette option ?**\n",
    "\n",
    "- Repartir sur un lot de spectres neuf sans mélange avec d’anciens fichiers.\n",
    "- Tester un workflow complet à partir d’un état initial propre.\n",
    "- Gagner en traçabilité et éviter les erreurs lors de sessions consécutives de téléchargement."
   ]
  },
  {
   "cell_type": "code",
   "execution_count": null,
   "id": "eef30685",
   "metadata": {},
   "outputs": [],
   "source": [
    "from IPython.display import display, Markdown \n",
    "\n",
    "display(Markdown(\"--- \\n### 2. Option de Nettoyage\"))\n",
    "display(Markdown(\"Si nécessaire, vous pouvez nettoyer le répertoire `data/raw/` pour repartir de zéro. Une sauvegarde sera automatiquement créée dans `data/raw_backup/`.\"))\n",
    "manager.interactive_cleaner()"
   ]
  },
  {
   "cell_type": "markdown",
   "id": "5106f96c",
   "metadata": {},
   "source": [
    "#"
   ]
  }
 ],
 "metadata": {
  "kernelspec": {
   "display_name": "venv",
   "language": "python",
   "name": "python3"
  },
  "language_info": {
   "codemirror_mode": {
    "name": "ipython",
    "version": 3
   },
   "file_extension": ".py",
   "mimetype": "text/x-python",
   "name": "python",
   "nbconvert_exporter": "python",
   "pygments_lexer": "ipython3",
   "version": "3.13.3"
  }
 },
 "nbformat": 4,
 "nbformat_minor": 5
}
