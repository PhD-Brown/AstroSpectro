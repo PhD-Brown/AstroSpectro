{
 "cells": [
  {
   "cell_type": "markdown",
   "id": "c5e6ccc7",
   "metadata": {},
   "source": [
    "# 📥 Notebook 01 – Téléchargement des Spectres DR5\n",
    "\n",
    "Ce notebook télécharge un lot de spectres .fits.gz du catalogue LAMOST DR5 à l’aide du script `dr5_downloader.py`.  \n",
    "Il est conçu pour être exécuté **seulement lorsque de nouveaux spectres sont nécessaires**, afin d’alimenter le répertoire `data/raw/` en données brutes.\n",
    "\n",
    "## ⚙️ Paramètres principaux\n",
    "\n",
    "- `limit` : Nombre de plans de spectres à télécharger (chaque plan contient plusieurs spectres).\n",
    "- `max_spectres` : Nombre maximum de spectres à télécharger.\n",
    "\n",
    "## 🔗 Dépendances\n",
    "\n",
    "- Le script Python `../src/tools/dr5_downloader.py` doit être présent et opérationnel.\n",
    "- La configuration du projet doit pointer vers le bon répertoire `data/raw/`.\n",
    "\n",
    "<br/>\n",
    "\n",
    "**Exécution** : Lance la cellule ci-dessous pour télécharger de nouveaux spectres depuis le catalogue public DR5.\n"
   ]
  },
  {
   "cell_type": "code",
   "execution_count": null,
   "id": "7ea4bf5b",
   "metadata": {},
   "outputs": [
    {
     "data": {
      "application/vnd.jupyter.widget-view+json": {
       "model_id": "f274377a980f48d7a0dcafc1e79dce28",
       "version_major": 2,
       "version_minor": 0
      },
      "text/plain": [
       "HBox(children=(IntText(value=5, description='Plans :'), IntText(value=100, description='Spectres :')))"
      ]
     },
     "metadata": {},
     "output_type": "display_data"
    },
    {
     "data": {
      "application/vnd.jupyter.widget-view+json": {
       "model_id": "a186f3e05ec1438bb6c859a19e5926a1",
       "version_major": 2,
       "version_minor": 0
      },
      "text/plain": [
       "Button(button_style='success', description='Lancer le téléchargement', icon='download', style=ButtonStyle())"
      ]
     },
     "metadata": {},
     "output_type": "display_data"
    },
    {
     "data": {
      "application/vnd.jupyter.widget-view+json": {
       "model_id": "2b20196746024be5b412c24b9697f8e8",
       "version_major": 2,
       "version_minor": 0
      },
      "text/plain": [
       "HTML(value='')"
      ]
     },
     "metadata": {},
     "output_type": "display_data"
    },
    {
     "data": {
      "application/vnd.jupyter.widget-view+json": {
       "model_id": "82fbe1fcd6c647f3ba3453f1e70a23a2",
       "version_major": 2,
       "version_minor": 0
      },
      "text/plain": [
       "Output()"
      ]
     },
     "metadata": {},
     "output_type": "display_data"
    }
   ],
   "source": [
    "import sys\n",
    "import subprocess\n",
    "import ipywidgets as widgets\n",
    "from IPython.display import display, clear_output, HTML\n",
    "import os\n",
    "from datetime import datetime, timezone\n",
    "import re\n",
    "\n",
    "# --- Widgets pour l'interface ---\n",
    "limit_widget = widgets.IntText(value=5, description='Plans :')\n",
    "max_spectra_widget = widgets.IntText(value=100, description='Spectres :')\n",
    "run_button = widgets.Button(description=\"Lancer le téléchargement\", button_style='success', icon='download')\n",
    "\n",
    "# --- Zone d'affichage dynamique ---\n",
    "# Un widget HTML pour la barre de progression qui se met à jour sur place\n",
    "progress_display = widgets.HTML(value=\"\")\n",
    "# Une zone de sortie pour les messages de log normaux\n",
    "log_output = widgets.Output()\n",
    "\n",
    "# Afficher l'interface utilisateur\n",
    "display(widgets.HBox([limit_widget, max_spectra_widget]), run_button, progress_display, log_output)\n",
    "\n",
    "# --- Fonction de callback pour le bouton ---\n",
    "def on_run_clicked(b):\n",
    "    # Nettoyer les zones de sortie pour un nouveau run\n",
    "    progress_display.value = \"\"\n",
    "    with log_output:\n",
    "        clear_output()\n",
    "        \n",
    "    # --- Préparation de la commande ---\n",
    "    limit = str(limit_widget.value)\n",
    "    max_spectra = str(max_spectra_widget.value)\n",
    "    python_exe = sys.executable\n",
    "    script_path = \"../src/tools/dr5_downloader.py\"\n",
    "    cmd = [python_exe, script_path, \"--limit\", limit, \"--max-spectres\", max_spectra]\n",
    "    \n",
    "    progress_display.value = f\"<b>Lancement du téléchargement...</b>\"\n",
    "    \n",
    "    # --- Exécution et Capture en Temps Réel ---\n",
    "    output_lines = []\n",
    "    try:\n",
    "        process = subprocess.Popen(\n",
    "            cmd,\n",
    "            stdout=subprocess.PIPE,\n",
    "            stderr=subprocess.STDOUT,\n",
    "            bufsize=1,\n",
    "            universal_newlines=True,\n",
    "            encoding='utf-8',\n",
    "            errors='replace'\n",
    "        )\n",
    "\n",
    "        if process.stdout:\n",
    "            for line in iter(process.stdout.readline, ''):\n",
    "                output_lines.append(line)\n",
    "                \n",
    "                # --- Logique d'affichage dynamique ---\n",
    "                if 'Téléchargement:' in line and '%' in line:\n",
    "                    # C'est une ligne de tqdm, on la traite pour l'affichage HTML\n",
    "                    clean_line = line.strip()\n",
    "                    match = re.search(r'(\\d+)%\\|', clean_line)\n",
    "                    percent = int(match.group(1)) if match else 0\n",
    "                    \n",
    "                    progress_bar_html = f\"\"\"\n",
    "                    <div style=\"font-family: monospace; white-space: pre;\">{clean_line}</div>\n",
    "                    <progress value=\"{percent}\" max=\"100\" style=\"width: 100%; height: 20px;\"></progress>\n",
    "                    \"\"\"\n",
    "                    progress_display.value = progress_bar_html\n",
    "                else:\n",
    "                    # C'est une autre ligne de log, on l'affiche dans la zone de sortie\n",
    "                    with log_output:\n",
    "                        print(line, end='')\n",
    "        \n",
    "        process.wait()\n",
    "        full_output = \"\".join(output_lines)\n",
    "\n",
    "        # --- Journalisation ---\n",
    "        timestamp = datetime.now(timezone.utc).strftime(\"%Y%m%dT%H%M%SZ\")\n",
    "        log_dir = \"../logs\"\n",
    "        os.makedirs(log_dir, exist_ok=True)\n",
    "\n",
    "        if process.returncode == 0:\n",
    "            progress_display.value = \"<b>Téléchargement terminé avec succès.</b>\"\n",
    "            log_filename = f\"download_log_{timestamp}.txt\"\n",
    "            log_path = os.path.join(log_dir, log_filename)\n",
    "            with open(log_path, \"w\", encoding=\"utf-8\") as f:\n",
    "                f.write(full_output)\n",
    "            with log_output:\n",
    "                print(f\"\\nLog de succès sauvegardé dans : {log_path}\")\n",
    "        else:\n",
    "            raise subprocess.CalledProcessError(process.returncode, cmd, output=full_output)\n",
    "\n",
    "    except subprocess.CalledProcessError as e:\n",
    "        progress_display.value = f\"<b>Une erreur est survenue pendant le téléchargement (code {e.returncode}).</b>\"\n",
    "        with log_output:\n",
    "             print(e.output or \"Aucune sortie d'erreur capturée.\")\n",
    "        # ... (logique de sauvegarde du log d'erreur) ...\n",
    "    except Exception as e:\n",
    "        progress_display.value = f\"<b>Une erreur inattendue est survenue : {e}</b>\"\n",
    "\n",
    "# --- Liaison ---\n",
    "run_button.on_click(on_run_clicked)"
   ]
  },
  {
   "cell_type": "markdown",
   "id": "493e47ee",
   "metadata": {},
   "source": [
    "#"
   ]
  },
  {
   "cell_type": "markdown",
   "id": "7079cfdc",
   "metadata": {},
   "source": [
    "# 🧹 Option de Nettoyage\n",
    "Il peut arriver que tu souhaites nettoyer entièrement le répertoire ``data/raw/`` avant de relancer un téléchargement, notamment pour repartir d’un dossier vierge ou libérer de l’espace.\n",
    "\n",
    "Cette option de nettoyage intègre deux niveaux de protection pour éviter toute suppression accidentelle :\n",
    "\n",
    "- Confirmation interactive :\n",
    "Un bouton de confirmation via un widget (ou une autre méthode comme input()) demande explicitement ton accord avant d’exécuter la suppression.\n",
    "\n",
    "- Sauvegarde automatique :\n",
    "Avant de vider le répertoire, le script réalise une copie complète de data/raw/ dans un dossier temporaire nommé data/raw_backup/.\n",
    "\n",
    "Cela te permet de restaurer tes spectres si jamais tu as validé la suppression par erreur.\n",
    "\n",
    "**Important :**\n",
    "\n",
    "- Le dossier de sauvegarde est écrasé à chaque nouvelle exécution de l’option.\n",
    "\n",
    "- Tu peux restaurer des fichiers en récupérant les spectres depuis data/raw_backup/ tant que tu n’as pas relancé un nettoyage.\n",
    "\n",
    "**Pourquoi utiliser cette option ?**\n",
    "\n",
    "- Repartir sur un lot de spectres neuf sans mélange avec d’anciens fichiers.\n",
    "- Tester un workflow complet à partir d’un état initial propre.\n",
    "- Gagner en traçabilité et éviter les erreurs lors de sessions consécutives de téléchargement."
   ]
  },
  {
   "cell_type": "code",
   "execution_count": null,
   "id": "5581d8c8",
   "metadata": {},
   "outputs": [],
   "source": [
    "import ipywidgets as widgets\n",
    "import shutil, os\n",
    "from IPython.display import display\n",
    "\n",
    "confirm = widgets.ToggleButtons(\n",
    "    options=[\"Non\", \"Oui\"],\n",
    "    description='Confirmer suppr. ?',\n",
    "    disabled=False\n",
    ")\n",
    "display(confirm)\n",
    "\n",
    "def on_change(change):\n",
    "    if change['new'] == \"Oui\":\n",
    "        backup_dir = \"../data/raw_backup/\"\n",
    "        try:\n",
    "            shutil.copytree(\"../data/raw/\", backup_dir, dirs_exist_ok=True)\n",
    "            shutil.rmtree(\"../data/raw/\")\n",
    "            os.makedirs(\"../data/raw/\")\n",
    "            print(\"data/raw vidé et sauvegardé dans raw_backup/\")\n",
    "        except Exception as e:\n",
    "            print(f\"Erreur : {e}\")\n",
    "\n",
    "confirm.observe(on_change, names='value')\n"
   ]
  },
  {
   "cell_type": "markdown",
   "id": "5106f96c",
   "metadata": {},
   "source": [
    "#"
   ]
  },
  {
   "cell_type": "markdown",
   "id": "cf1f59f9",
   "metadata": {},
   "source": [
    "## Tableau de Bord de l'État du Dataset\n",
    "\n",
    "1. **Importe ``DatasetBuilder`` :** On réutilise l'outil conçu pour gérer les lots d'entraînement.\n",
    "2. ``_list_available_fits()`` : On appelle cette méthode pour qu'elle scanne le dossier ``data/raw/`` et compte tous les fichiers ``.fits.gz`` téléchargés.\n",
    "3. ``_load_trained_log()`` : On appelle cette méthode pour qu'elle lise le ``fichier trained_spectra.csv`` et compte combien de spectres ont déjà été marqués comme \"_utilisés_\".\n",
    "4. **Calcul :** Une simple soustraction nous donne le nombre de spectres qui sont nouveaux et prêts pour la prochaine session d'entraînement.\n",
    "5. **Affichage Markdown :** On utilise Markdown pour afficher les résultats de manière claire et professionnelle, directement dans la sortie du notebook."
   ]
  },
  {
   "cell_type": "code",
   "execution_count": 2,
   "id": "d72e3c44",
   "metadata": {},
   "outputs": [
    {
     "name": "stdout",
     "output_type": "stream",
     "text": [
      "'c:\\Users\\alexb\\Documents\\Google_Cloud\\alex_labs_google_sprint\\astro_spectro_git\\src' ajouté au sys.path\n",
      "Analyse de l'état du dataset terminée.\n"
     ]
    },
    {
     "data": {
      "text/markdown": [
       "\n",
       "### Tableau de Bord du Dataset Spectral\n",
       "\n",
       "---\n",
       "- **Spectres Totalement Téléchargés :** `9550`\n",
       "- **Spectres Déjà Utilisés pour l'Entraînement :** `1000`\n",
       "---\n",
       "- **Spectres Nouveaux et Disponibles pour le Prochain Entraînement :** **`8550`**\n"
      ],
      "text/plain": [
       "<IPython.core.display.Markdown object>"
      ]
     },
     "metadata": {},
     "output_type": "display_data"
    }
   ],
   "source": [
    "import os\n",
    "import sys\n",
    "\n",
    "module_path = os.path.abspath(os.path.join('..', 'src'))\n",
    "if module_path not in sys.path:\n",
    "    sys.path.append(module_path)\n",
    "    print(f\"'{module_path}' ajouté au sys.path\")\n",
    "\n",
    "from tools.dataset_builder import DatasetBuilder\n",
    "\n",
    "# --- Initialisation du builder ---\n",
    "# On lui donne les chemins relatifs depuis le dossier du notebook\n",
    "builder = DatasetBuilder(\n",
    "    catalog_dir=\"../data/catalog/\",\n",
    "    raw_data_dir=\"../data/raw/\"\n",
    ")\n",
    "\n",
    "# --- Collecte des statistiques ---\n",
    "# On utilise les méthodes internes de la classe DatasetBuilder\n",
    "# pour obtenir les chemins des fichiers FITS disponibles et déjà entraînés\n",
    "all_available_fits_paths = builder._list_available_fits()\n",
    "already_trained_fits_paths = builder._load_trained_log()\n",
    "\n",
    "total_available = len(all_available_fits_paths)\n",
    "total_trained = len(already_trained_fits_paths)\n",
    "total_new = len([f for f in all_available_fits_paths if f not in already_trained_fits_paths])\n",
    "\n",
    "# --- Affichage formaté ---\n",
    "# On utilise du Markdown pour un rendu propre et lisible \n",
    "from IPython.display import display, Markdown\n",
    "\n",
    "md_output = f\"\"\"\n",
    "### Tableau de Bord du Dataset Spectral\n",
    "\n",
    "---\n",
    "- **Spectres Totalement Téléchargés :** `{total_available}`\n",
    "- **Spectres Déjà Utilisés pour l'Entraînement :** `{total_trained}`\n",
    "---\n",
    "- **Spectres Nouveaux et Disponibles pour le Prochain Entraînement :** **`{total_new}`**\n",
    "\"\"\"\n",
    "\n",
    "print(\"Analyse de l'état du dataset terminée.\")\n",
    "display(Markdown(md_output))"
   ]
  }
 ],
 "metadata": {
  "kernelspec": {
   "display_name": "venv",
   "language": "python",
   "name": "python3"
  },
  "language_info": {
   "codemirror_mode": {
    "name": "ipython",
    "version": 3
   },
   "file_extension": ".py",
   "mimetype": "text/x-python",
   "name": "python",
   "nbconvert_exporter": "python",
   "pygments_lexer": "ipython3",
   "version": "3.13.3"
  }
 },
 "nbformat": 4,
 "nbformat_minor": 5
}
