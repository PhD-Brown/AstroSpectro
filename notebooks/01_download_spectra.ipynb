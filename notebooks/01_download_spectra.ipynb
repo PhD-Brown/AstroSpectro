{
 "cells": [
  {
   "cell_type": "markdown",
   "id": "c5e6ccc7",
   "metadata": {},
   "source": [
    "# 📥 Notebook 01 – Téléchargement des Spectres DR5\n",
    "\n",
    "Ce notebook télécharge un lot de spectres .fits.gz du catalogue LAMOST DR5 à l’aide du script `dr5_downloader.py`.  \n",
    "Il est conçu pour être exécuté **seulement lorsque de nouveaux spectres sont nécessaires**, afin d’alimenter le répertoire `data/raw/` en données brutes.\n",
    "\n",
    "## ⚙️ Paramètres principaux\n",
    "\n",
    "- `limit` : Nombre de plans de spectres à télécharger (chaque plan contient plusieurs spectres).\n",
    "- `max_spectres` : Nombre maximum de spectres à télécharger.\n",
    "\n",
    "## 🔗 Dépendances\n",
    "\n",
    "- Le script Python `../src/tools/dr5_downloader.py` doit être présent et opérationnel.\n",
    "- La configuration du projet doit pointer vers le bon répertoire `data/raw/`.\n",
    "\n",
    "---\n",
    "\n",
    "**Exécution** : Lance la cellule ci-dessous pour télécharger de nouveaux spectres depuis le catalogue public DR5.\n"
   ]
  },
  {
   "cell_type": "code",
   "execution_count": null,
   "id": "7ea4bf5b",
   "metadata": {},
   "outputs": [
    {
     "data": {
      "application/vnd.jupyter.widget-view+json": {
       "model_id": "9b24e3c4fb3740d2bc1de451466b59c9",
       "version_major": 2,
       "version_minor": 0
      },
      "text/plain": [
       "IntText(value=5, description='Plans :')"
      ]
     },
     "metadata": {},
     "output_type": "display_data"
    },
    {
     "data": {
      "application/vnd.jupyter.widget-view+json": {
       "model_id": "85214d3bf4504d938ce86f59d50ff835",
       "version_major": 2,
       "version_minor": 0
      },
      "text/plain": [
       "IntText(value=500, description='Spectres :')"
      ]
     },
     "metadata": {},
     "output_type": "display_data"
    },
    {
     "data": {
      "application/vnd.jupyter.widget-view+json": {
       "model_id": "faa43e5e363144d5867445520f5889e2",
       "version_major": 2,
       "version_minor": 0
      },
      "text/plain": [
       "Button(button_style='success', description='Lancer le téléchargement', style=ButtonStyle())"
      ]
     },
     "metadata": {},
     "output_type": "display_data"
    },
    {
     "data": {
      "application/vnd.jupyter.widget-view+json": {
       "model_id": "bdb2f515f52640de8cda549ee4b1cd9d",
       "version_major": 2,
       "version_minor": 0
      },
      "text/plain": [
       "Output()"
      ]
     },
     "metadata": {},
     "output_type": "display_data"
    }
   ],
   "source": [
    "import sys\n",
    "import subprocess\n",
    "import ipywidgets as widgets\n",
    "from IPython.display import display\n",
    "import os\n",
    "import datetime\n",
    "\n",
    "# Paramètres interactifs\n",
    "limit_widget = widgets.IntText(value=5, description='Plans :')\n",
    "max_spectres_widget = widgets.IntText(value=500, description='Spectres :')\n",
    "display(limit_widget, max_spectres_widget)\n",
    "\n",
    "# Bouton d'exécution\n",
    "run_button = widgets.Button(description=\"Lancer le téléchargement\", button_style='success')\n",
    "output_area = widgets.Output()\n",
    "display(run_button, output_area)\n",
    "\n",
    "def on_run_clicked(b):\n",
    "    with output_area:\n",
    "        output_area.clear_output()  # Clear previous outputs\n",
    "        \n",
    "        # Récupération des paramètres interactifs\n",
    "        limit = str(limit_widget.value)\n",
    "        max_spectres = str(max_spectres_widget.value)\n",
    "\n",
    "        # Construction de la commande\n",
    "        python_exe = sys.executable\n",
    "        script_path = \"../src/tools/dr5_downloader.py\"\n",
    "        cmd = [\n",
    "            python_exe,\n",
    "            script_path,\n",
    "            \"--limit\", limit,\n",
    "            \"--max-spectres\", max_spectres\n",
    "        ]\n",
    "\n",
    "        # Exécution avec meilleure gestion des erreurs\n",
    "        print(f\"Début du téléchargement avec {limit} plans et {max_spectres} spectres max...\")\n",
    "        try:\n",
    "            result = subprocess.run(cmd, capture_output=True, text=True, check=True)\n",
    "            print(result.stdout)\n",
    "            print(\"Téléchargement terminé avec succès.\")\n",
    "\n",
    "            # Journalisation : enregistrement dans un log daté\n",
    "            timestamp = datetime.datetime.utcnow().strftime(\"%Y%m%dT%H%M%SZ\")\n",
    "            log_filename = f\"download_log_{timestamp}.txt\"\n",
    "            os.makedirs(\"../logs\", exist_ok=True)\n",
    "            with open(os.path.join(\"../logs\", log_filename), \"w\", encoding=\"utf-8\") as f:\n",
    "                f.write(result.stdout)\n",
    "            print(f\"Log sauvegardé dans ../logs/{log_filename}\")\n",
    "\n",
    "        except subprocess.CalledProcessError as e:\n",
    "            print(\"Une erreur s'est produite pendant le téléchargement :\")\n",
    "            print(e.stderr)\n",
    "            # Sauvegarde aussi le log d'erreur\n",
    "            timestamp = datetime.datetime.utcnow().strftime(\"%Y%m%dT%H%M%SZ\")\n",
    "            log_filename = f\"error_log_{timestamp}.txt\"\n",
    "            os.makedirs(\"../logs\", exist_ok=True)\n",
    "            with open(os.path.join(\"../logs\", log_filename), \"w\", encoding=\"utf-8\") as f:\n",
    "                f.write(e.stderr or \"Aucune sortie d'erreur capturée.\")\n",
    "            print(f\"Log d'erreur sauvegardé dans ../logs/{log_filename}\")\n",
    "\n",
    "run_button.on_click(on_run_clicked)\n"
   ]
  },
  {
   "cell_type": "markdown",
   "id": "7079cfdc",
   "metadata": {},
   "source": [
    "# 🧹 Option de Nettoyage\n",
    "Il peut arriver que tu souhaites nettoyer entièrement le répertoire ``data/raw/`` avant de relancer un téléchargement, notamment pour repartir d’un dossier vierge ou libérer de l’espace.\n",
    "\n",
    "Cette option de nettoyage intègre deux niveaux de protection pour éviter toute suppression accidentelle :\n",
    "\n",
    "- Confirmation interactive :\n",
    "Un bouton de confirmation via un widget (ou une autre méthode comme input()) demande explicitement ton accord avant d’exécuter la suppression.\n",
    "\n",
    "- Sauvegarde automatique :\n",
    "Avant de vider le répertoire, le script réalise une copie complète de data/raw/ dans un dossier temporaire nommé data/raw_backup/.\n",
    "\n",
    "Cela te permet de restaurer tes spectres si jamais tu as validé la suppression par erreur.\n",
    "\n",
    "**Important :**\n",
    "\n",
    "- Le dossier de sauvegarde est écrasé à chaque nouvelle exécution de l’option.\n",
    "\n",
    "- Tu peux restaurer des fichiers en récupérant les spectres depuis data/raw_backup/ tant que tu n’as pas relancé un nettoyage.\n",
    "\n",
    "**Pourquoi utiliser cette option ?**\n",
    "\n",
    "- Repartir sur un lot de spectres neuf sans mélange avec d’anciens fichiers.\n",
    "- Tester un workflow complet à partir d’un état initial propre.\n",
    "- Gagner en traçabilité et éviter les erreurs lors de sessions consécutives de téléchargement."
   ]
  },
  {
   "cell_type": "code",
   "execution_count": null,
   "id": "5581d8c8",
   "metadata": {},
   "outputs": [],
   "source": [
    "import ipywidgets as widgets\n",
    "import shutil, os\n",
    "from IPython.display import display\n",
    "\n",
    "confirm = widgets.ToggleButtons(\n",
    "    options=[\"Non\", \"Oui\"],\n",
    "    description='Confirmer suppr. ?',\n",
    "    disabled=False\n",
    ")\n",
    "display(confirm)\n",
    "\n",
    "def on_change(change):\n",
    "    if change['new'] == \"Oui\":\n",
    "        backup_dir = \"../data/raw_backup/\"\n",
    "        try:\n",
    "            shutil.copytree(\"../data/raw/\", backup_dir, dirs_exist_ok=True)\n",
    "            shutil.rmtree(\"../data/raw/\")\n",
    "            os.makedirs(\"../data/raw/\")\n",
    "            print(\"data/raw vidé et sauvegardé dans raw_backup/\")\n",
    "        except Exception as e:\n",
    "            print(f\"Erreur : {e}\")\n",
    "\n",
    "confirm.observe(on_change, names='value')\n"
   ]
  }
 ],
 "metadata": {
  "kernelspec": {
   "display_name": "venv",
   "language": "python",
   "name": "python3"
  },
  "language_info": {
   "codemirror_mode": {
    "name": "ipython",
    "version": 3
   },
   "file_extension": ".py",
   "mimetype": "text/x-python",
   "name": "python",
   "nbconvert_exporter": "python",
   "pygments_lexer": "ipython3",
   "version": "3.13.3"
  }
 },
 "nbformat": 4,
 "nbformat_minor": 5
}
