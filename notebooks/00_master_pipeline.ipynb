{
 "cells": [
  {
   "cell_type": "markdown",
   "id": "3a1111b9",
   "metadata": {},
   "source": [
    "# 🚀 Master Notebook – Pipeline Spectroscopie DR5\n",
    "\n",
    "Ce notebook orchestre le **workflow complet** pour entraîner un classifieur à partir des spectres LAMOST DR5 :  \n",
    "**sélection d’un lot → génération/enrichissement du catalogue → prétraitement + features → entraînement → journaux & artefacts.**\n",
    "\n",
    "**Sommaire rapide**\n",
    "- [🧪 Étape 0 : SETUP & IMPORTS](#etape-0)\n",
    "- [▶️ Lancer une session complète](#run-full)\n",
    "- [1) Téléchargement des spectres](#step-1-download)\n",
    "- [2) Sélection du lot de spectres](#step-2-select)\n",
    "- [3) Catalogue : génération & enrichissement Gaia](#step-3-catalog)\n",
    "- [3bis) Traitement & extraction des features](#step-3bis-features)\n",
    "- [4) Entraînement du modèle](#step-4-train)\n",
    "\n",
    "> Orchestrateur utilisé : **`MasterPipeline`**  \n",
    "> Méthodes clés : `select_batch`, `generate_and_enrich_catalog`, `process_data`, `run_training_session`, `run_full_pipeline`, `interactive_training_runner`.\n",
    "\n",
    "<a id=\"etape-0\"></a>"
   ]
  },
  {
   "cell_type": "markdown",
   "id": "c7400fe8",
   "metadata": {},
   "source": [
    "#"
   ]
  },
  {
   "cell_type": "markdown",
   "id": "c50b4e36",
   "metadata": {},
   "source": [
    "## 🧪 Étape 0 : SETUP & IMPORTS\n",
    "\n",
    "Initialise l’environnement, crée/valide l’arborescence des répertoires\n",
    "(`RAW_DATA_DIR`, `CATALOG_DIR`, `PROCESSED_DIR`, `MODELS_DIR`, `REPORTS_DIR`)\n",
    "et instancie **`MasterPipeline`**.\n",
    "\n",
    "**Attendu après exécution :**\n",
    "- un objet `pipeline` prêt à l’emploi,\n",
    "- messages sur la racine du projet et, si configuré, tentative de connexion à **Gaia**.\n",
    "\n",
    "> ℹ️ **UI interactive d’entraînement** : disponible avec `pipeline.interactive_training_runner()`."
   ]
  },
  {
   "cell_type": "code",
   "execution_count": null,
   "id": "2fa78825",
   "metadata": {},
   "outputs": [],
   "source": [
    "from utils import setup_project_env, load_env_vars\n",
    "from pipeline.master import MasterPipeline\n",
    "from astroquery.gaia import Gaia\n",
    "from pipeline.classifier import SpectralClassifier\n",
    "\n",
    "# Initialisation automatique de l'environnement et des chemins\n",
    "paths = setup_project_env()\n",
    "\n",
    "# Chargement des credentials Gaia depuis .env\n",
    "env_vars = load_env_vars()\n",
    "\n",
    "try:\n",
    "    print(\"Tentative de connexion à l'archive Gaia...\")\n",
    "    Gaia.login(user=env_vars.get(\"GAIA_USER\"), password=env_vars.get(\"GAIA_PASS\"))\n",
    "    print(\"Connexion à Gaia réussie.\")\n",
    "except Exception as e:\n",
    "    print(f\"AVERTISSEMENT : Échec de la connexion à Gaia ({e}). Le mode 'bulk' pourrait échouer.\")\n",
    "\n",
    "# Instanciation du pipeline maître\n",
    "pipeline = MasterPipeline(\n",
    "    raw_data_dir=paths[\"RAW_DATA_DIR\"],\n",
    "    catalog_dir=paths[\"CATALOG_DIR\"],\n",
    "    processed_dir=paths[\"PROCESSED_DIR\"],\n",
    "    models_dir=paths[\"MODELS_DIR\"],\n",
    "    reports_dir=paths[\"REPORTS_DIR\"],\n",
    ")\n",
    "\n",
    "print(\"\\nSetup terminé. Tu es prêt à lancer ton pipeline.\")"
   ]
  },
  {
   "cell_type": "markdown",
   "id": "a5a84aff",
   "metadata": {},
   "source": [
    "#"
   ]
  },
  {
   "cell_type": "markdown",
   "id": "d42665f3",
   "metadata": {},
   "source": [
    "---"
   ]
  },
  {
   "cell_type": "markdown",
   "id": "19f413f6",
   "metadata": {},
   "source": [
    "<a id=\"run-full\"></a>\n",
    "## ▶️ Lancer une session complète\n",
    "\n",
    "Lance **tout le pipeline A→Z** :\n",
    "`select_batch → generate_and_enrich_catalog → process_data → run_training_session`.\n",
    "\n",
    "> 💡 **Paramètres conseillés** au début : `batch_size=200–500`, `n_estimators=200–400` (RF/XGB).  \n",
    "> Active `enrich_gaia=True` lorsque la connectivité est stable."
   ]
  },
  {
   "cell_type": "code",
   "execution_count": null,
   "id": "1ddebadc",
   "metadata": {},
   "outputs": [],
   "source": [
    "pipeline.run_full_pipeline(\n",
    "    batch_size=500,                 # taille du lot\n",
    "    model_type=\"RandomForest\",      # \"RandomForest\" ou \"XGBoost\"\n",
    "    n_estimators=100,               # arbres du modèle final\n",
    "    prediction_target=\"main_class\", # ex.: \"main_class\", \"sub_class_top25\", \"sub_class_bins\"\n",
    "    save_and_log=True,              # sauvegarde modèle + rapport JSON\n",
    "    enrich_gaia=False,              # True pour activer Gaia\n",
    "    # ...kwargs Gaia si enrich_gaia=True\n",
    ")"
   ]
  },
  {
   "cell_type": "markdown",
   "id": "7bdfff5d",
   "metadata": {},
   "source": [
    "#"
   ]
  },
  {
   "cell_type": "markdown",
   "id": "ecd8b433",
   "metadata": {},
   "source": [
    "---"
   ]
  },
  {
   "cell_type": "markdown",
   "id": "73195d93",
   "metadata": {},
   "source": [
    "<a id=\"step-1-download\"></a>\n",
    "## 1) Téléchargement des spectres\n",
    "\n",
    "Utilisation du script **`dr5_downloader.py`** encapsulé.  \n",
    "Cette étape est externalisée dans **[01_download_spectra.ipynb](./01_download_spectra.ipynb)** (à exécuter au besoin).\n",
    "\n",
    "> ⚠️ **Quota / temps** : selon le volume demandé, le téléchargement peut être long."
   ]
  },
  {
   "cell_type": "markdown",
   "id": "2491df16",
   "metadata": {},
   "source": [
    "#"
   ]
  },
  {
   "cell_type": "markdown",
   "id": "aa2ec72f",
   "metadata": {},
   "source": [
    "<a id=\"step-2-select\"></a>\n",
    "## 2) Sélection du lot de spectres\n",
    "\n",
    "Choisit un **nouveau lot** de fichiers `.fits.gz` à traiter sans réutiliser de spectres déjà journalisés.\n",
    "\n",
    "- `batch_size` : nombre de spectres,\n",
    "- `strategy` : ex. `\"random\"`.\n",
    "\n",
    "Le sélectionneur s’appuie sur **DatasetBuilder** pour garantir l’unicité des échantillons.\n"
   ]
  },
  {
   "cell_type": "code",
   "execution_count": null,
   "id": "8851d1ce",
   "metadata": {},
   "outputs": [],
   "source": [
    "pipeline.select_batch(batch_size=2500, strategy=\"random\")"
   ]
  },
  {
   "cell_type": "markdown",
   "id": "ac995827",
   "metadata": {},
   "source": [
    "#"
   ]
  },
  {
   "cell_type": "markdown",
   "id": "d5a91ef0",
   "metadata": {},
   "source": [
    "<a id=\"step-3-catalog\"></a>\n",
    "## 3) Catalogue : génération & enrichissement Gaia\n",
    "\n",
    "À partir du lot courant, produit un **catalogue local** (CSV) et peut l’**enrichir via Gaia** (positions, photométrie…).\n",
    "\n",
    "**Sorties :**\n",
    "- `master_catalog_temp.csv` (catalogue local) puis `master_catalog_gaia.csv` si enrichi,\n",
    "- mise à jour de `pipeline.master_catalog_df`.\n",
    "\n",
    "> ℹ️ **Couplage Gaia** : géré par l’orchestrateur (appairage + stats).  \n",
    "> ⚠️ **Connexion** : si l’authentification Gaia échoue, relance sans `enrich_gaia` ou vérifie tes identifiants."
   ]
  },
  {
   "cell_type": "code",
   "execution_count": null,
   "id": "fe96da6d",
   "metadata": {},
   "outputs": [],
   "source": [
    "pipeline.generate_and_enrich_catalog(\n",
    "    enrich_gaia=True,\n",
    "    mode='bulk',\n",
    "    include_risky=False,   # <-- active radius/mass/age -- beta donc en test\n",
    "    ruwe_max=1.4           # optionnel: garde aussi les entrées à RUWE élevé - <1.4 est un bon filtre\n",
    ")"
   ]
  },
  {
   "cell_type": "markdown",
   "id": "f865b332",
   "metadata": {},
   "source": [
    "#"
   ]
  },
  {
   "cell_type": "markdown",
   "id": "cf2f207e",
   "metadata": {},
   "source": [
    "<a id=\"step-3bis-features\"></a>\n",
    "## 3bis) Traitement & extraction des features\n",
    "\n",
    "Exécute les **prétraitements spectraux** et l’**extraction de features**.  \n",
    "Un CSV `features_YYYYMMDDTHHMMSSZ.csv` est écrit dans `processed/`.\n",
    "\n",
    "- Met à jour `pipeline.features_df` (mémoire) & `pipeline.last_features_path` (disque).\n",
    "- Features = mesures photométriques/astrométriques, indices de raies, résumés de voisinage spectral…\n",
    "\n",
    "> 💡 Certaines étapes internes reposent sur des détections/associations de raies (Balmer, Ca II H/K, Mg_b, Na_D)."
   ]
  },
  {
   "cell_type": "code",
   "execution_count": null,
   "id": "3b49921f",
   "metadata": {},
   "outputs": [],
   "source": [
    "pipeline.process_data()"
   ]
  },
  {
   "cell_type": "markdown",
   "id": "fb4a1b83",
   "metadata": {},
   "source": [
    "#"
   ]
  },
  {
   "cell_type": "markdown",
   "id": "914f95d0",
   "metadata": {},
   "source": [
    "<a id=\"step-4-train\"></a>\n",
    "## 4) Entraînement du modèle\n",
    "\n",
    "Entraîne un **classifieur** (RF/XGBoost) avec **sélection de features** optionnelle (`SelectFromModel`, seuil `\"median\"` par défaut), puis **évalue** et **journalise**.\n",
    "\n",
    "- Récap : nb de features conservées, scores, rapports, chemins des artefacts.\n",
    "- En notebook : UI dédiée via `pipeline.interactive_training_runner()`.\n",
    "\n",
    "> 💡 **Astuce** : commence avec RF pour un feedback rapide, puis passe à XGB pour gagner en performance."
   ]
  },
  {
   "cell_type": "code",
   "execution_count": null,
   "id": "6242ff55",
   "metadata": {},
   "outputs": [],
   "source": [
    "pipeline.interactive_training_runner()"
   ]
  },
  {
   "cell_type": "markdown",
   "id": "3dc0a756",
   "metadata": {},
   "source": [
    "#\n",
    "#\n",
    "#"
   ]
  }
 ],
 "metadata": {
  "kernelspec": {
   "display_name": "venv",
   "language": "python",
   "name": "python3"
  },
  "language_info": {
   "codemirror_mode": {
    "name": "ipython",
    "version": 3
   },
   "file_extension": ".py",
   "mimetype": "text/x-python",
   "name": "python",
   "nbconvert_exporter": "python",
   "pygments_lexer": "ipython3",
   "version": "3.13.3"
  }
 },
 "nbformat": 4,
 "nbformat_minor": 5
}
