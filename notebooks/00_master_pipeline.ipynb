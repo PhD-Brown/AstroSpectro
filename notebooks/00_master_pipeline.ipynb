{
 "cells": [
  {
   "cell_type": "markdown",
   "id": "3a1111b9",
   "metadata": {},
   "source": [
    "# 🌌 Master Notebook – Pipeline Spectroscopie DR5\n",
    "\n",
    "## Objectif du pipeline\n",
    "\n",
    "- Ce notebook télécharge, prépare et journalise des spectres .fits.gz de LAMOST DR5 pour entraîner un modèle de classification.\n",
    "- Le DatasetBuilder garantit qu'aucun spectre ne sera jamais réutilisé en s'appuyant sur un log de fichiers déjà traités.\n",
    "- Ce pipeline permet d’ajouter progressivement des spectres au jeu d’entraînement, en assurant qu’aucun spectre ne soit traité deux fois. Chaque exécution sélectionne un nouveau lot, l’entraîne, puis marque les spectres comme utilisés.\n"
   ]
  },
  {
   "cell_type": "markdown",
   "id": "c7400fe8",
   "metadata": {},
   "source": [
    "#"
   ]
  },
  {
   "cell_type": "markdown",
   "id": "c50b4e36",
   "metadata": {},
   "source": [
    "## Étape 0 : SETUP & IMPORTS"
   ]
  },
  {
   "cell_type": "code",
   "execution_count": null,
   "id": "2fa78825",
   "metadata": {},
   "outputs": [],
   "source": [
    "from utils import setup_project_env\n",
    "from pipeline.master import MasterPipeline\n",
    "\n",
    "# Initialisation automatique de l'environnement et des chemins\n",
    "paths = setup_project_env()\n",
    "\n",
    "# Instanciation du pipeline maître\n",
    "pipeline = MasterPipeline(\n",
    "    raw_data_dir=paths[\"RAW_DATA_DIR\"],\n",
    "    catalog_dir=paths[\"CATALOG_DIR\"],\n",
    "    processed_dir=paths[\"PROCESSED_DIR\"],\n",
    "    models_dir=paths[\"MODELS_DIR\"],\n",
    "    reports_dir=paths[\"REPORTS_DIR\"],\n",
    ")\n",
    "\n",
    "print(\"\\nSetup terminé. Tu es prêt à lancer ton pipeline.\")"
   ]
  },
  {
   "cell_type": "markdown",
   "id": "a5a84aff",
   "metadata": {},
   "source": [
    "#"
   ]
  },
  {
   "cell_type": "markdown",
   "id": "19f413f6",
   "metadata": {},
   "source": [
    "## Faire fonctionner la pipeline d'un début à la fin\n",
    "\n",
    "Lancer la cellule ci-bas pour faire fonctionner la pipeline au complet d'une seule ligne de commande, sinon suivre plus bas pour faire étape par étape!\n",
    "\n",
    "### - Entraîner un RandomForest\n",
    "``pipeline.run_full_pipeline(batch_size=2000, model_type='RandomForest')``\n",
    "\n",
    "### - Entraîner un XGBoost\n",
    "``pipeline.run_full_pipeline(batch_size=2000, model_type='XGBoost')``"
   ]
  },
  {
   "cell_type": "code",
   "execution_count": null,
   "id": "1ddebadc",
   "metadata": {},
   "outputs": [],
   "source": [
    "pipeline.run_full_pipeline(batch_size=500, model_type='XGBoost')"
   ]
  },
  {
   "cell_type": "markdown",
   "id": "8656d07f",
   "metadata": {},
   "source": [
    "#"
   ]
  },
  {
   "cell_type": "markdown",
   "id": "73195d93",
   "metadata": {},
   "source": [
    "## 1) Téléchargement des spectres\n",
    "Utilisation du script ``dr5_downloader.py`` encapsulé en fonction.\n",
    "\n",
    "Cette étape est désormais externalisée dans [01_download_spectra.ipynb](./01_download_spectra.ipynb) pour être exécutée seulement au besoin."
   ]
  },
  {
   "cell_type": "markdown",
   "id": "2491df16",
   "metadata": {},
   "source": [
    "#"
   ]
  },
  {
   "cell_type": "markdown",
   "id": "cf2f207e",
   "metadata": {},
   "source": [
    "## 2) Préparation des données spectrales : Sélection du lot de spectres à traiter\n",
    "- Le DatasetBuilder sélectionne un lot de nouveaux spectres jamais utilisés.\n",
    "- Si tous les spectres disponibles ont déjà été utilisés, le pipeline s'arrête proprement.\n"
   ]
  },
  {
   "cell_type": "code",
   "execution_count": null,
   "id": "f8d233f0",
   "metadata": {},
   "outputs": [],
   "source": [
    "# Pour définir la grosseur du lot modifier la variable de batch_size= par la valeur voulu\n",
    "pipeline._select_batch(batch_size=5000)"
   ]
  },
  {
   "cell_type": "markdown",
   "id": "30e60ac9",
   "metadata": {},
   "source": [
    "#"
   ]
  },
  {
   "cell_type": "markdown",
   "id": "1c8538af",
   "metadata": {},
   "source": [
    "## 3) parcours ce lot de spectres pour générer un CSV à partir des headers des fichiers ``.fits.gz`` et Exploration des features\n",
    "C’est ce CSV qui sera ton ``master_catalog`` local, aligné exactement avec les spectres que tu vas traiter dans ce lot.\n",
    "\n",
    "### Analyse exploratoire des spectres prétraités\n",
    "Visualiser SNR, distribution de classes, etc."
   ]
  },
  {
   "cell_type": "code",
   "execution_count": null,
   "id": "3b49921f",
   "metadata": {},
   "outputs": [],
   "source": [
    "pipeline._generate_local_catalog()\n",
    "pipeline._process_batch()"
   ]
  },
  {
   "cell_type": "markdown",
   "id": "fb4a1b83",
   "metadata": {},
   "source": [
    "#"
   ]
  },
  {
   "cell_type": "markdown",
   "id": "914f95d0",
   "metadata": {},
   "source": [
    "## 4) Entraînement du modèle\n",
    "### Machine Learning\n",
    "Sélection des features et entraînement d'un modèle de classification."
   ]
  },
  {
   "cell_type": "code",
   "execution_count": null,
   "id": "6242ff55",
   "metadata": {},
   "outputs": [],
   "source": [
    "pipeline.interactive_training_runner()"
   ]
  }
 ],
 "metadata": {
  "kernelspec": {
   "display_name": "venv",
   "language": "python",
   "name": "python3"
  },
  "language_info": {
   "codemirror_mode": {
    "name": "ipython",
    "version": 3
   },
   "file_extension": ".py",
   "mimetype": "text/x-python",
   "name": "python",
   "nbconvert_exporter": "python",
   "pygments_lexer": "ipython3",
   "version": "3.13.3"
  }
 },
 "nbformat": 4,
 "nbformat_minor": 5
}
