{
 "cells": [
  {
   "cell_type": "markdown",
   "id": "3a1111b9",
   "metadata": {},
   "source": [
    "# 🌌 Master Notebook – Pipeline Spectroscopie DR5\n",
    "\n",
    "## Objectif du pipeline\n",
    "\n",
    "- Ce notebook télécharge, prépare et journalise des spectres .fits.gz de LAMOST DR5 pour entraîner un modèle de classification.\n",
    "- Le DatasetBuilder garantit qu'aucun spectre ne sera jamais réutilisé en s'appuyant sur un log de fichiers déjà traités.\n",
    "- Ce pipeline permet d’ajouter progressivement des spectres au jeu d’entraînement, en assurant qu’aucun spectre ne soit traité deux fois. Chaque exécution sélectionne un nouveau lot, l’entraîne, puis marque les spectres comme utilisés.\n"
   ]
  },
  {
   "cell_type": "markdown",
   "id": "c7400fe8",
   "metadata": {},
   "source": [
    "#"
   ]
  },
  {
   "cell_type": "markdown",
   "id": "c50b4e36",
   "metadata": {},
   "source": [
    "## Étape 0 : SETUP & IMPORTS"
   ]
  },
  {
   "cell_type": "code",
   "execution_count": null,
   "id": "2fa78825",
   "metadata": {},
   "outputs": [],
   "source": [
    "from utils import setup_project_env, ensure_dir, load_env_vars\n",
    "from pipeline.master import MasterPipeline\n",
    "from astroquery.gaia import Gaia\n",
    "\n",
    "# Initialisation automatique de l'environnement et des chemins\n",
    "paths = setup_project_env()\n",
    "\n",
    "# Chargement des credentials Gaia depuis .env\n",
    "env_vars = load_env_vars()\n",
    "\n",
    "try:\n",
    "    print(\"Tentative de connexion à l'archive Gaia...\")\n",
    "    Gaia.login(user=env_vars.get(\"GAIA_USER\"), password=env_vars.get(\"GAIA_PASS\"))\n",
    "    print(\"Connexion à Gaia réussie.\")\n",
    "except Exception as e:\n",
    "    print(f\"AVERTISSEMENT : Échec de la connexion à Gaia ({e}). Le mode 'bulk' pourrait échouer.\")\n",
    "\n",
    "# Instanciation du pipeline maître\n",
    "pipeline = MasterPipeline(\n",
    "    raw_data_dir=paths[\"RAW_DATA_DIR\"],\n",
    "    catalog_dir=paths[\"CATALOG_DIR\"],\n",
    "    processed_dir=paths[\"PROCESSED_DIR\"],\n",
    "    models_dir=paths[\"MODELS_DIR\"],\n",
    "    reports_dir=paths[\"REPORTS_DIR\"],\n",
    ")\n",
    "\n",
    "print(\"\\nSetup terminé. Tu es prêt à lancer ton pipeline.\")"
   ]
  },
  {
   "cell_type": "markdown",
   "id": "a5a84aff",
   "metadata": {},
   "source": [
    "#"
   ]
  },
  {
   "cell_type": "markdown",
   "id": "d42665f3",
   "metadata": {},
   "source": [
    "---"
   ]
  },
  {
   "cell_type": "markdown",
   "id": "19f413f6",
   "metadata": {},
   "source": [
    "## Lancer une Session d'Entraînement Complète"
   ]
  },
  {
   "cell_type": "code",
   "execution_count": null,
   "id": "1ddebadc",
   "metadata": {},
   "outputs": [],
   "source": [
    "pipeline.run_full_pipeline(batch_size=5000, enrich_gaia=True, model_type='XGBoost')"
   ]
  },
  {
   "cell_type": "markdown",
   "id": "30f8bf7b",
   "metadata": {},
   "source": [
    "#"
   ]
  },
  {
   "cell_type": "markdown",
   "id": "ecd8b433",
   "metadata": {},
   "source": [
    "---"
   ]
  },
  {
   "cell_type": "markdown",
   "id": "8656d07f",
   "metadata": {},
   "source": [
    "#"
   ]
  },
  {
   "cell_type": "markdown",
   "id": "73195d93",
   "metadata": {},
   "source": [
    "## 1) Téléchargement des spectres\n",
    "Utilisation du script ``dr5_downloader.py`` encapsulé en fonction.\n",
    "\n",
    "Cette étape est désormais externalisée dans [01_download_spectra.ipynb](./01_download_spectra.ipynb) pour être exécutée seulement au besoin."
   ]
  },
  {
   "cell_type": "markdown",
   "id": "2491df16",
   "metadata": {},
   "source": [
    "#"
   ]
  },
  {
   "cell_type": "markdown",
   "id": "cf2f207e",
   "metadata": {},
   "source": [
    "## 2) Préparation des données spectrales : Sélection du lot de spectres à traiter et Enrichissement Gaia et Traitement des Features"
   ]
  },
  {
   "cell_type": "code",
   "execution_count": null,
   "id": "3b49921f",
   "metadata": {},
   "outputs": [],
   "source": [
    "# Pour définir la grosseur du lot modifier la variable de batch_size= par la valeur voulu\n",
    "pipeline.select_batch(batch_size=1000)\n",
    "\n",
    "# Version AVEC Gaia - utiliser soit cone ou bulk\n",
    "pipeline.generate_and_enrich_catalog(\n",
    "    enrich_gaia=True,\n",
    "    mode='bulk',\n",
    "    include_risky=False,   # <-- active radius/mass/age -- beta donc en test\n",
    "    ruwe_max=9.0            # optionnel: garde aussi les entrées à RUWE élevé\n",
    ")\n",
    "\n",
    "pipeline.process_data()"
   ]
  },
  {
   "cell_type": "markdown",
   "id": "fb4a1b83",
   "metadata": {},
   "source": [
    "#"
   ]
  },
  {
   "cell_type": "markdown",
   "id": "914f95d0",
   "metadata": {},
   "source": [
    "## 3) Entraînement du modèle\n",
    "### Machine Learning\n",
    "Sélection des features et entraînement d'un modèle de classification."
   ]
  },
  {
   "cell_type": "code",
   "execution_count": null,
   "id": "6242ff55",
   "metadata": {},
   "outputs": [],
   "source": [
    "pipeline.interactive_training_runner()"
   ]
  }
 ],
 "metadata": {
  "kernelspec": {
   "display_name": "venv",
   "language": "python",
   "name": "python3"
  },
  "language_info": {
   "codemirror_mode": {
    "name": "ipython",
    "version": 3
   },
   "file_extension": ".py",
   "mimetype": "text/x-python",
   "name": "python",
   "nbconvert_exporter": "python",
   "pygments_lexer": "ipython3",
   "version": "3.13.3"
  }
 },
 "nbformat": 4,
 "nbformat_minor": 5
}
