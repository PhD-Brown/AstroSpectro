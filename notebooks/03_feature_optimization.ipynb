{
 "cells": [
  {
   "cell_type": "markdown",
   "id": "c046330b",
   "metadata": {},
   "source": [
    "# 03 - Optimisation et Expérimentation sur les Features\n",
    "\n",
    "> Ce notebook est dédié à la **création, au test et à l’analyse de nouvelles features** pour le projet AstroSpectro.  \n",
    "\n",
    "Il permet de comparer facilement l’impact de chaque nouvelle feature (FWHM, skewness, indices couleurs…) sur la qualité de la classification.\n"
   ]
  },
  {
   "cell_type": "markdown",
   "id": "45746525",
   "metadata": {},
   "source": [
    "#"
   ]
  },
  {
   "cell_type": "markdown",
   "id": "25d5f023",
   "metadata": {},
   "source": [
    "## 1. Contexte et Objectifs\n",
    "\n",
    "- Objectif : Optimiser la performance du modèle via de nouvelles features.\n",
    "- Ce notebook sert de laboratoire rapide avant migration définitive des améliorations dans le pipeline.\n",
    "- **Astuce** : Documenter chaque essai, archiver code & décisions dans `logs/ideas.txt` ou `reports/idea_log.md`.\n",
    "\n"
   ]
  },
  {
   "cell_type": "markdown",
   "id": "90c90922",
   "metadata": {},
   "source": [
    "#"
   ]
  },
  {
   "cell_type": "markdown",
   "id": "5eb19251",
   "metadata": {},
   "source": [
    "## 2. Imports & configuration"
   ]
  },
  {
   "cell_type": "code",
   "execution_count": null,
   "id": "af49706a",
   "metadata": {},
   "outputs": [],
   "source": [
    "import pandas as pd\n",
    "import numpy as np\n",
    "import matplotlib.pyplot as plt\n",
    "from sklearn.ensemble import RandomForestClassifier\n",
    "from sklearn.metrics import classification_report, confusion_matrix\n",
    "\n",
    "from utils import setup_project_env\n",
    "from pipeline.master import MasterPipeline\n",
    "from pipeline.feature_engineering import FeatureEngineer # Adapter si besoin\n",
    "from pipeline.peak_detector import PeakDetector\n",
    "\n",
    "# Initialisation automatique de l'environnement et des chemins\n",
    "paths = setup_project_env()\n",
    "\n",
    "# Instanciation du pipeline maître\n",
    "pipeline = MasterPipeline(\n",
    "    raw_data_dir=paths[\"RAW_DATA_DIR\"],\n",
    "    catalog_dir=paths[\"CATALOG_DIR\"],\n",
    "    processed_dir=paths[\"PROCESSED_DIR\"],\n",
    "    models_dir=paths[\"MODELS_DIR\"],\n",
    "    reports_dir=paths[\"REPORTS_DIR\"],\n",
    ")\n",
    "\n",
    "print(\"\\nSetup terminé. Tu es prêt à lancer ton pipeline.\")"
   ]
  },
  {
   "cell_type": "markdown",
   "id": "1f6911cd",
   "metadata": {},
   "source": [
    "#"
   ]
  },
  {
   "cell_type": "markdown",
   "id": "1be2b2d1",
   "metadata": {},
   "source": [
    "## 3. Chargement des données\n",
    "\n",
    "- Charger un batch de spectres prétraités (`data/processed/`)\n",
    "- Importer features, labels et spectres normalisés."
   ]
  },
  {
   "cell_type": "code",
   "execution_count": null,
   "id": "21f53399",
   "metadata": {},
   "outputs": [],
   "source": [
    "# Exemple\n",
    "features_df = pd.read_csv('../data/processed/features_20250802T004135Z.csv') # À adapter\n",
    "labels = features_df['subclass']\n",
    "X = features_df.drop(['subclass'], axis=1).select_dtypes(include=['float64', 'int64'])\n",
    "print(X.columns)\n",
    "print(X.head(2))"
   ]
  },
  {
   "cell_type": "markdown",
   "id": "ff3e767d",
   "metadata": {},
   "source": [
    "#"
   ]
  },
  {
   "cell_type": "markdown",
   "id": "60f74a09",
   "metadata": {},
   "source": [
    "## 4. Exploration des features existantes\n",
    "\n",
    "- Afficher la liste des features, leur type, leur distribution.\n",
    "- Matrice de corrélation, visualisation de l’importance via RandomForest."
   ]
  },
  {
   "cell_type": "code",
   "execution_count": null,
   "id": "5e5bb6b7",
   "metadata": {},
   "outputs": [],
   "source": [
    "# Aperçu features\n",
    "print(features_df.info())\n",
    "display(features_df.describe())\n",
    "plt.figure(figsize=(10,5))\n",
    "features_df.hist(bins=30, figsize=(15,10))"
   ]
  },
  {
   "cell_type": "markdown",
   "id": "36dac66c",
   "metadata": {},
   "source": [
    "#"
   ]
  },
  {
   "cell_type": "markdown",
   "id": "7234f5da",
   "metadata": {},
   "source": [
    "### Importance des features (baseline)"
   ]
  },
  {
   "cell_type": "code",
   "execution_count": null,
   "id": "2b808566",
   "metadata": {},
   "outputs": [],
   "source": [
    "rf = RandomForestClassifier(n_estimators=100, random_state=42)\n",
    "rf.fit(X, labels)\n",
    "importances = pd.Series(rf.feature_importances_, index=X.columns)\n",
    "importances.sort_values().plot(kind='barh', figsize=(8,6))\n",
    "plt.title(\"Importance des features (Baseline)\")\n",
    "plt.show()"
   ]
  },
  {
   "cell_type": "markdown",
   "id": "6e8b115d",
   "metadata": {},
   "source": [
    "#"
   ]
  },
  {
   "cell_type": "markdown",
   "id": "228ebc78",
   "metadata": {},
   "source": [
    "#"
   ]
  }
 ],
 "metadata": {
  "kernelspec": {
   "display_name": "venv",
   "language": "python",
   "name": "python3"
  },
  "language_info": {
   "codemirror_mode": {
    "name": "ipython",
    "version": 3
   },
   "file_extension": ".py",
   "mimetype": "text/x-python",
   "name": "python",
   "nbconvert_exporter": "python",
   "pygments_lexer": "ipython3",
   "version": "3.13.3"
  }
 },
 "nbformat": 4,
 "nbformat_minor": 5
}
